{
  "nbformat": 4,
  "nbformat_minor": 2,
  "metadata": {
    "accelerator": "TPU",
    "colab": {
      "name": "NID.ipynb",
      "provenance": [],
      "collapsed_sections": [],
      "include_colab_link": true
    },
    "interpreter": {
      "hash": "b3ba2566441a7c06988d0923437866b63cedc61552a5af99d1f4fb67d367b25f"
    },
    "kernelspec": {
      "display_name": "Python 3.7.4 64-bit ('base': conda)",
      "name": "python3"
    },
    "language_info": {
      "codemirror_mode": {
        "name": "ipython",
        "version": 3
      },
      "file_extension": ".py",
      "mimetype": "text/x-python",
      "name": "python",
      "nbconvert_exporter": "python",
      "pygments_lexer": "ipython3",
      "version": "3.7.4"
    }
  },
  "cells": [
    {
      "cell_type": "markdown",
      "source": [
        "<a href=\"https://colab.research.google.com/github/hiddouche/NIDS_with_ML/blob/master/NID6_avec_resultat.ipynb\" target=\"_parent\"><img src=\"https://colab.research.google.com/assets/colab-badge.svg\" alt=\"Open In Colab\"/></a>"
      ],
      "metadata": {
        "id": "view-in-github",
        "colab_type": "text"
      }
    },
    {
      "cell_type": "code",
      "execution_count": null,
      "source": [
        "import pandas as pd\r\n",
        "import numpy as np\r\n",
        "import sys\r\n",
        "import sklearn\r\n",
        "import io\r\n",
        "import random"
      ],
      "outputs": [],
      "metadata": {
        "id": "Qx_dyZdlSXMK"
      }
    },
    {
      "cell_type": "code",
      "execution_count": null,
      "source": [
        "train_url = 'https://raw.githubusercontent.com/hiddouche/NIDS_with_ML/master/NSL_KDD_Train.csv'\r\n",
        "test_url = 'https://raw.githubusercontent.com/hiddouche/NIDS_with_ML/master/NSL_KDD_Test.csv'\r\n",
        "\r\n"
      ],
      "outputs": [],
      "metadata": {
        "id": "THyNO1v5Mzrx"
      }
    },
    {
      "cell_type": "code",
      "execution_count": null,
      "source": [
        "col_names = [\"duration\",\"protocol_type\",\"service\",\"flag\",\"src_bytes\",\r\n",
        "    \"dst_bytes\",\"land\",\"wrong_fragment\",\"urgent\",\"hot\",\"num_failed_logins\",\r\n",
        "    \"logged_in\",\"num_compromised\",\"root_shell\",\"su_attempted\",\"num_root\",\r\n",
        "    \"num_file_creations\",\"num_shells\",\"num_access_files\",\"num_outbound_cmds\",\r\n",
        "    \"is_host_login\",\"is_guest_login\",\"count\",\"srv_count\",\"serror_rate\",\r\n",
        "    \"srv_serror_rate\",\"rerror_rate\",\"srv_rerror_rate\",\"same_srv_rate\",\r\n",
        "    \"diff_srv_rate\",\"srv_diff_host_rate\",\"dst_host_count\",\"dst_host_srv_count\",\r\n",
        "    \"dst_host_same_srv_rate\",\"dst_host_diff_srv_rate\",\"dst_host_same_src_port_rate\",\r\n",
        "    \"dst_host_srv_diff_host_rate\",\"dst_host_serror_rate\",\"dst_host_srv_serror_rate\",\r\n",
        "    \"dst_host_rerror_rate\",\"dst_host_srv_rerror_rate\",\"label\"]\r\n",
        "\r\n",
        "\r\n",
        "df = pd.read_csv(train_url,header=None, names = col_names)\r\n",
        "\r\n",
        "df_test = pd.read_csv(test_url, header=None, names = col_names)\r\n",
        "\r\n",
        "print('Dimensions of the Training set:',df.shape)\r\n",
        "print('Dimensions of the Test set:',df_test.shape)"
      ],
      "outputs": [
        {
          "output_type": "stream",
          "name": "stdout",
          "text": [
            "Dimensions of the Training set: (125973, 42)\n",
            "Dimensions of the Test set: (22544, 42)\n"
          ]
        }
      ],
      "metadata": {
        "colab": {
          "base_uri": "https://localhost:8080/"
        },
        "id": "Utaaqng3NOY0",
        "outputId": "e8c39db5-12d1-4eb1-e8a3-483c1b07d1f4"
      }
    },
    {
      "cell_type": "code",
      "execution_count": null,
      "source": [
        "df.head(5)"
      ],
      "outputs": [
        {
          "output_type": "execute_result",
          "data": {
            "text/html": [
              "<div>\n",
              "<style scoped>\n",
              "    .dataframe tbody tr th:only-of-type {\n",
              "        vertical-align: middle;\n",
              "    }\n",
              "\n",
              "    .dataframe tbody tr th {\n",
              "        vertical-align: top;\n",
              "    }\n",
              "\n",
              "    .dataframe thead th {\n",
              "        text-align: right;\n",
              "    }\n",
              "</style>\n",
              "<table border=\"1\" class=\"dataframe\">\n",
              "  <thead>\n",
              "    <tr style=\"text-align: right;\">\n",
              "      <th></th>\n",
              "      <th>duration</th>\n",
              "      <th>protocol_type</th>\n",
              "      <th>service</th>\n",
              "      <th>flag</th>\n",
              "      <th>src_bytes</th>\n",
              "      <th>dst_bytes</th>\n",
              "      <th>land</th>\n",
              "      <th>wrong_fragment</th>\n",
              "      <th>urgent</th>\n",
              "      <th>hot</th>\n",
              "      <th>num_failed_logins</th>\n",
              "      <th>logged_in</th>\n",
              "      <th>num_compromised</th>\n",
              "      <th>root_shell</th>\n",
              "      <th>su_attempted</th>\n",
              "      <th>num_root</th>\n",
              "      <th>num_file_creations</th>\n",
              "      <th>num_shells</th>\n",
              "      <th>num_access_files</th>\n",
              "      <th>num_outbound_cmds</th>\n",
              "      <th>is_host_login</th>\n",
              "      <th>is_guest_login</th>\n",
              "      <th>count</th>\n",
              "      <th>srv_count</th>\n",
              "      <th>serror_rate</th>\n",
              "      <th>srv_serror_rate</th>\n",
              "      <th>rerror_rate</th>\n",
              "      <th>srv_rerror_rate</th>\n",
              "      <th>same_srv_rate</th>\n",
              "      <th>diff_srv_rate</th>\n",
              "      <th>srv_diff_host_rate</th>\n",
              "      <th>dst_host_count</th>\n",
              "      <th>dst_host_srv_count</th>\n",
              "      <th>dst_host_same_srv_rate</th>\n",
              "      <th>dst_host_diff_srv_rate</th>\n",
              "      <th>dst_host_same_src_port_rate</th>\n",
              "      <th>dst_host_srv_diff_host_rate</th>\n",
              "      <th>dst_host_serror_rate</th>\n",
              "      <th>dst_host_srv_serror_rate</th>\n",
              "      <th>dst_host_rerror_rate</th>\n",
              "      <th>dst_host_srv_rerror_rate</th>\n",
              "      <th>label</th>\n",
              "    </tr>\n",
              "  </thead>\n",
              "  <tbody>\n",
              "    <tr>\n",
              "      <th>0</th>\n",
              "      <td>0</td>\n",
              "      <td>tcp</td>\n",
              "      <td>ftp_data</td>\n",
              "      <td>SF</td>\n",
              "      <td>491</td>\n",
              "      <td>0</td>\n",
              "      <td>0</td>\n",
              "      <td>0</td>\n",
              "      <td>0</td>\n",
              "      <td>0</td>\n",
              "      <td>0</td>\n",
              "      <td>0</td>\n",
              "      <td>0</td>\n",
              "      <td>0</td>\n",
              "      <td>0</td>\n",
              "      <td>0</td>\n",
              "      <td>0</td>\n",
              "      <td>0</td>\n",
              "      <td>0</td>\n",
              "      <td>0</td>\n",
              "      <td>0</td>\n",
              "      <td>0</td>\n",
              "      <td>2</td>\n",
              "      <td>2</td>\n",
              "      <td>0.0</td>\n",
              "      <td>0.0</td>\n",
              "      <td>0.0</td>\n",
              "      <td>0.0</td>\n",
              "      <td>1.00</td>\n",
              "      <td>0.00</td>\n",
              "      <td>0.00</td>\n",
              "      <td>150</td>\n",
              "      <td>25</td>\n",
              "      <td>0.17</td>\n",
              "      <td>0.03</td>\n",
              "      <td>0.17</td>\n",
              "      <td>0.00</td>\n",
              "      <td>0.00</td>\n",
              "      <td>0.00</td>\n",
              "      <td>0.05</td>\n",
              "      <td>0.00</td>\n",
              "      <td>normal</td>\n",
              "    </tr>\n",
              "    <tr>\n",
              "      <th>1</th>\n",
              "      <td>0</td>\n",
              "      <td>udp</td>\n",
              "      <td>other</td>\n",
              "      <td>SF</td>\n",
              "      <td>146</td>\n",
              "      <td>0</td>\n",
              "      <td>0</td>\n",
              "      <td>0</td>\n",
              "      <td>0</td>\n",
              "      <td>0</td>\n",
              "      <td>0</td>\n",
              "      <td>0</td>\n",
              "      <td>0</td>\n",
              "      <td>0</td>\n",
              "      <td>0</td>\n",
              "      <td>0</td>\n",
              "      <td>0</td>\n",
              "      <td>0</td>\n",
              "      <td>0</td>\n",
              "      <td>0</td>\n",
              "      <td>0</td>\n",
              "      <td>0</td>\n",
              "      <td>13</td>\n",
              "      <td>1</td>\n",
              "      <td>0.0</td>\n",
              "      <td>0.0</td>\n",
              "      <td>0.0</td>\n",
              "      <td>0.0</td>\n",
              "      <td>0.08</td>\n",
              "      <td>0.15</td>\n",
              "      <td>0.00</td>\n",
              "      <td>255</td>\n",
              "      <td>1</td>\n",
              "      <td>0.00</td>\n",
              "      <td>0.60</td>\n",
              "      <td>0.88</td>\n",
              "      <td>0.00</td>\n",
              "      <td>0.00</td>\n",
              "      <td>0.00</td>\n",
              "      <td>0.00</td>\n",
              "      <td>0.00</td>\n",
              "      <td>normal</td>\n",
              "    </tr>\n",
              "    <tr>\n",
              "      <th>2</th>\n",
              "      <td>0</td>\n",
              "      <td>tcp</td>\n",
              "      <td>private</td>\n",
              "      <td>S0</td>\n",
              "      <td>0</td>\n",
              "      <td>0</td>\n",
              "      <td>0</td>\n",
              "      <td>0</td>\n",
              "      <td>0</td>\n",
              "      <td>0</td>\n",
              "      <td>0</td>\n",
              "      <td>0</td>\n",
              "      <td>0</td>\n",
              "      <td>0</td>\n",
              "      <td>0</td>\n",
              "      <td>0</td>\n",
              "      <td>0</td>\n",
              "      <td>0</td>\n",
              "      <td>0</td>\n",
              "      <td>0</td>\n",
              "      <td>0</td>\n",
              "      <td>0</td>\n",
              "      <td>123</td>\n",
              "      <td>6</td>\n",
              "      <td>1.0</td>\n",
              "      <td>1.0</td>\n",
              "      <td>0.0</td>\n",
              "      <td>0.0</td>\n",
              "      <td>0.05</td>\n",
              "      <td>0.07</td>\n",
              "      <td>0.00</td>\n",
              "      <td>255</td>\n",
              "      <td>26</td>\n",
              "      <td>0.10</td>\n",
              "      <td>0.05</td>\n",
              "      <td>0.00</td>\n",
              "      <td>0.00</td>\n",
              "      <td>1.00</td>\n",
              "      <td>1.00</td>\n",
              "      <td>0.00</td>\n",
              "      <td>0.00</td>\n",
              "      <td>neptune</td>\n",
              "    </tr>\n",
              "    <tr>\n",
              "      <th>3</th>\n",
              "      <td>0</td>\n",
              "      <td>tcp</td>\n",
              "      <td>http</td>\n",
              "      <td>SF</td>\n",
              "      <td>232</td>\n",
              "      <td>8153</td>\n",
              "      <td>0</td>\n",
              "      <td>0</td>\n",
              "      <td>0</td>\n",
              "      <td>0</td>\n",
              "      <td>0</td>\n",
              "      <td>1</td>\n",
              "      <td>0</td>\n",
              "      <td>0</td>\n",
              "      <td>0</td>\n",
              "      <td>0</td>\n",
              "      <td>0</td>\n",
              "      <td>0</td>\n",
              "      <td>0</td>\n",
              "      <td>0</td>\n",
              "      <td>0</td>\n",
              "      <td>0</td>\n",
              "      <td>5</td>\n",
              "      <td>5</td>\n",
              "      <td>0.2</td>\n",
              "      <td>0.2</td>\n",
              "      <td>0.0</td>\n",
              "      <td>0.0</td>\n",
              "      <td>1.00</td>\n",
              "      <td>0.00</td>\n",
              "      <td>0.00</td>\n",
              "      <td>30</td>\n",
              "      <td>255</td>\n",
              "      <td>1.00</td>\n",
              "      <td>0.00</td>\n",
              "      <td>0.03</td>\n",
              "      <td>0.04</td>\n",
              "      <td>0.03</td>\n",
              "      <td>0.01</td>\n",
              "      <td>0.00</td>\n",
              "      <td>0.01</td>\n",
              "      <td>normal</td>\n",
              "    </tr>\n",
              "    <tr>\n",
              "      <th>4</th>\n",
              "      <td>0</td>\n",
              "      <td>tcp</td>\n",
              "      <td>http</td>\n",
              "      <td>SF</td>\n",
              "      <td>199</td>\n",
              "      <td>420</td>\n",
              "      <td>0</td>\n",
              "      <td>0</td>\n",
              "      <td>0</td>\n",
              "      <td>0</td>\n",
              "      <td>0</td>\n",
              "      <td>1</td>\n",
              "      <td>0</td>\n",
              "      <td>0</td>\n",
              "      <td>0</td>\n",
              "      <td>0</td>\n",
              "      <td>0</td>\n",
              "      <td>0</td>\n",
              "      <td>0</td>\n",
              "      <td>0</td>\n",
              "      <td>0</td>\n",
              "      <td>0</td>\n",
              "      <td>30</td>\n",
              "      <td>32</td>\n",
              "      <td>0.0</td>\n",
              "      <td>0.0</td>\n",
              "      <td>0.0</td>\n",
              "      <td>0.0</td>\n",
              "      <td>1.00</td>\n",
              "      <td>0.00</td>\n",
              "      <td>0.09</td>\n",
              "      <td>255</td>\n",
              "      <td>255</td>\n",
              "      <td>1.00</td>\n",
              "      <td>0.00</td>\n",
              "      <td>0.00</td>\n",
              "      <td>0.00</td>\n",
              "      <td>0.00</td>\n",
              "      <td>0.00</td>\n",
              "      <td>0.00</td>\n",
              "      <td>0.00</td>\n",
              "      <td>normal</td>\n",
              "    </tr>\n",
              "  </tbody>\n",
              "</table>\n",
              "</div>"
            ],
            "text/plain": [
              "   duration protocol_type  ... dst_host_srv_rerror_rate    label\n",
              "0         0           tcp  ...                     0.00   normal\n",
              "1         0           udp  ...                     0.00   normal\n",
              "2         0           tcp  ...                     0.00  neptune\n",
              "3         0           tcp  ...                     0.01   normal\n",
              "4         0           tcp  ...                     0.00   normal\n",
              "\n",
              "[5 rows x 42 columns]"
            ]
          },
          "metadata": {},
          "execution_count": 4
        }
      ],
      "metadata": {
        "colab": {
          "base_uri": "https://localhost:8080/",
          "height": 226
        },
        "id": "_zKWRUDkWpiH",
        "outputId": "045c5b9d-1944-452a-e2d2-329532715ce3"
      }
    },
    {
      "cell_type": "code",
      "execution_count": null,
      "source": [
        "print('Label distribution Training set:')\r\n",
        "print(df['label'].value_counts())\r\n",
        "print()\r\n",
        "print('Label distribution Test set:')\r\n",
        "print(df_test['label'].value_counts())"
      ],
      "outputs": [
        {
          "output_type": "stream",
          "name": "stdout",
          "text": [
            "Label distribution Training set:\n",
            "normal             67343\n",
            "neptune            41214\n",
            "satan               3633\n",
            "ipsweep             3599\n",
            "portsweep           2931\n",
            "smurf               2646\n",
            "nmap                1493\n",
            "back                 956\n",
            "teardrop             892\n",
            "warezclient          890\n",
            "pod                  201\n",
            "guess_passwd          53\n",
            "buffer_overflow       30\n",
            "warezmaster           20\n",
            "land                  18\n",
            "imap                  11\n",
            "rootkit               10\n",
            "loadmodule             9\n",
            "ftp_write              8\n",
            "multihop               7\n",
            "phf                    4\n",
            "perl                   3\n",
            "spy                    2\n",
            "Name: label, dtype: int64\n",
            "\n",
            "Label distribution Test set:\n",
            "normal             9711\n",
            "neptune            4657\n",
            "guess_passwd       1231\n",
            "mscan               996\n",
            "warezmaster         944\n",
            "apache2             737\n",
            "satan               735\n",
            "processtable        685\n",
            "smurf               665\n",
            "back                359\n",
            "snmpguess           331\n",
            "saint               319\n",
            "mailbomb            293\n",
            "snmpgetattack       178\n",
            "portsweep           157\n",
            "ipsweep             141\n",
            "httptunnel          133\n",
            "nmap                 73\n",
            "pod                  41\n",
            "buffer_overflow      20\n",
            "multihop             18\n",
            "named                17\n",
            "ps                   15\n",
            "sendmail             14\n",
            "xterm                13\n",
            "rootkit              13\n",
            "teardrop             12\n",
            "xlock                 9\n",
            "land                  7\n",
            "xsnoop                4\n",
            "ftp_write             3\n",
            "worm                  2\n",
            "phf                   2\n",
            "sqlattack             2\n",
            "udpstorm              2\n",
            "loadmodule            2\n",
            "perl                  2\n",
            "imap                  1\n",
            "Name: label, dtype: int64\n"
          ]
        }
      ],
      "metadata": {
        "colab": {
          "base_uri": "https://localhost:8080/"
        },
        "id": "BAa8_nBFWwxf",
        "outputId": "cd211975-4ea2-44c1-c3ba-814934f696f3"
      }
    },
    {
      "cell_type": "markdown",
      "source": [
        "**Step 1: Data preprocessing:**\n",
        "\n",
        "\n",
        "One-Hot-Encoding est utilisé pour convertir toutes les propriétés catégorielles en propriétés binaires. Exigence One-Hot-Endcoding, l'entrée de ce transformateur doit être une matrice entière exprimant les valeurs reçues avec des propriétés catégorielles (discrètes). La sortie sera une matrice creuse où chaque colonne correspond à une valeur possible. On suppose que les propriétés d'entrée prennent des valeurs dans la plage [0, n_values]. Par conséquent, pour convertir chaque catégorie en nombre, les propriétés doivent d'abord être converties avec LabelEncoder."
      ],
      "metadata": {
        "id": "vFUPOfTWW7jF"
      }
    },
    {
      "cell_type": "code",
      "execution_count": null,
      "source": [
        "# les colonnes sont catégoriques, pas encore binaires: protocol_type (column 2), service (column 3), flag (column 4).\r\n",
        "\r\n",
        "print('Training set:')\r\n",
        "for col_name in df.columns:\r\n",
        "    if df[col_name].dtypes == 'object' :\r\n",
        "        unique_cat = len(df[col_name].unique())\r\n",
        "        print(\"Feature '{col_name}' has {unique_cat} categories\".format(col_name=col_name, unique_cat=unique_cat))\r\n",
        "\r\n",
        "print()\r\n",
        "print('Distribution of categories in service:')\r\n",
        "print(df['service'].value_counts().sort_values(ascending=False).head())"
      ],
      "outputs": [
        {
          "output_type": "stream",
          "name": "stdout",
          "text": [
            "Training set:\n",
            "Feature 'protocol_type' has 3 categories\n",
            "Feature 'service' has 70 categories\n",
            "Feature 'flag' has 11 categories\n",
            "Feature 'label' has 23 categories\n",
            "\n",
            "Distribution of categories in service:\n",
            "http        40338\n",
            "private     21853\n",
            "domain_u     9043\n",
            "smtp         7313\n",
            "ftp_data     6860\n",
            "Name: service, dtype: int64\n"
          ]
        }
      ],
      "metadata": {
        "colab": {
          "base_uri": "https://localhost:8080/"
        },
        "id": "TyLnY-XCXVnk",
        "outputId": "5fdbe12d-6dd1-494a-9dfd-961fbbbe310e"
      }
    },
    {
      "cell_type": "code",
      "execution_count": null,
      "source": [
        "# Test set\r\n",
        "print('Test set:')\r\n",
        "for col_name in df_test.columns:\r\n",
        "    if df_test[col_name].dtypes == 'object' :\r\n",
        "        unique_cat = len(df_test[col_name].unique())\r\n",
        "        print(\"Feature '{col_name}' has {unique_cat} categories\".format(col_name=col_name, unique_cat=unique_cat))\r\n"
      ],
      "outputs": [
        {
          "output_type": "stream",
          "name": "stdout",
          "text": [
            "Test set:\n",
            "Feature 'protocol_type' has 3 categories\n",
            "Feature 'service' has 64 categories\n",
            "Feature 'flag' has 11 categories\n",
            "Feature 'label' has 38 categories\n"
          ]
        }
      ],
      "metadata": {
        "colab": {
          "base_uri": "https://localhost:8080/"
        },
        "id": "WhKXNXlwXb5G",
        "outputId": "922091d1-1de5-4da3-ae6a-69cfe8cd828d"
      }
    },
    {
      "cell_type": "markdown",
      "source": [
        "**LabelEncoder**\n",
        "\n",
        "**Insert categorical features into a 2D numpy array**"
      ],
      "metadata": {
        "id": "PZKviPW0XnzU"
      }
    },
    {
      "cell_type": "code",
      "execution_count": null,
      "source": [
        "from sklearn.preprocessing import LabelEncoder,OneHotEncoder\r\n",
        "categorical_columns=['protocol_type', 'service', 'flag']\r\n",
        "\r\n",
        "df_categorical_values = df[categorical_columns]\r\n",
        "testdf_categorical_values = df_test[categorical_columns]\r\n",
        "\r\n",
        "df_categorical_values.head()"
      ],
      "outputs": [
        {
          "output_type": "execute_result",
          "data": {
            "text/html": [
              "<div>\n",
              "<style scoped>\n",
              "    .dataframe tbody tr th:only-of-type {\n",
              "        vertical-align: middle;\n",
              "    }\n",
              "\n",
              "    .dataframe tbody tr th {\n",
              "        vertical-align: top;\n",
              "    }\n",
              "\n",
              "    .dataframe thead th {\n",
              "        text-align: right;\n",
              "    }\n",
              "</style>\n",
              "<table border=\"1\" class=\"dataframe\">\n",
              "  <thead>\n",
              "    <tr style=\"text-align: right;\">\n",
              "      <th></th>\n",
              "      <th>protocol_type</th>\n",
              "      <th>service</th>\n",
              "      <th>flag</th>\n",
              "    </tr>\n",
              "  </thead>\n",
              "  <tbody>\n",
              "    <tr>\n",
              "      <th>0</th>\n",
              "      <td>tcp</td>\n",
              "      <td>ftp_data</td>\n",
              "      <td>SF</td>\n",
              "    </tr>\n",
              "    <tr>\n",
              "      <th>1</th>\n",
              "      <td>udp</td>\n",
              "      <td>other</td>\n",
              "      <td>SF</td>\n",
              "    </tr>\n",
              "    <tr>\n",
              "      <th>2</th>\n",
              "      <td>tcp</td>\n",
              "      <td>private</td>\n",
              "      <td>S0</td>\n",
              "    </tr>\n",
              "    <tr>\n",
              "      <th>3</th>\n",
              "      <td>tcp</td>\n",
              "      <td>http</td>\n",
              "      <td>SF</td>\n",
              "    </tr>\n",
              "    <tr>\n",
              "      <th>4</th>\n",
              "      <td>tcp</td>\n",
              "      <td>http</td>\n",
              "      <td>SF</td>\n",
              "    </tr>\n",
              "  </tbody>\n",
              "</table>\n",
              "</div>"
            ],
            "text/plain": [
              "  protocol_type   service flag\n",
              "0           tcp  ftp_data   SF\n",
              "1           udp     other   SF\n",
              "2           tcp   private   S0\n",
              "3           tcp      http   SF\n",
              "4           tcp      http   SF"
            ]
          },
          "metadata": {},
          "execution_count": 8
        }
      ],
      "metadata": {
        "colab": {
          "base_uri": "https://localhost:8080/",
          "height": 206
        },
        "id": "SYmvn2qWXxs2",
        "outputId": "2dbed0f9-e849-4f23-995a-9b2439e9e032"
      }
    },
    {
      "cell_type": "code",
      "execution_count": null,
      "source": [
        "# protocol type\r\n",
        "unique_protocol=sorted(df.protocol_type.unique())\r\n",
        "string1 = 'Protocol_type_'\r\n",
        "unique_protocol2=[string1 + x for x in unique_protocol]\r\n",
        "print(unique_protocol2)\r\n",
        "\r\n",
        "# service\r\n",
        "unique_service=sorted(df.service.unique())\r\n",
        "string2 = 'service_'\r\n",
        "unique_service2=[string2 + x for x in unique_service]\r\n",
        "print(unique_service2)\r\n",
        "\r\n",
        "\r\n",
        "# flag\r\n",
        "unique_flag=sorted(df.flag.unique())\r\n",
        "string3 = 'flag_'\r\n",
        "unique_flag2=[string3 + x for x in unique_flag]\r\n",
        "print(unique_flag2)\r\n",
        "\r\n",
        "\r\n",
        "# put together\r\n",
        "dumcols=unique_protocol2 + unique_service2 + unique_flag2\r\n",
        "\r\n",
        "\r\n",
        "#do it for test set\r\n",
        "unique_service_test=sorted(df_test.service.unique())\r\n",
        "unique_service2_test=[string2 + x for x in unique_service_test]\r\n",
        "testdumcols=unique_protocol2 + unique_service2_test + unique_flag2\r\n"
      ],
      "outputs": [
        {
          "output_type": "stream",
          "name": "stdout",
          "text": [
            "['Protocol_type_icmp', 'Protocol_type_tcp', 'Protocol_type_udp']\n",
            "['service_IRC', 'service_X11', 'service_Z39_50', 'service_aol', 'service_auth', 'service_bgp', 'service_courier', 'service_csnet_ns', 'service_ctf', 'service_daytime', 'service_discard', 'service_domain', 'service_domain_u', 'service_echo', 'service_eco_i', 'service_ecr_i', 'service_efs', 'service_exec', 'service_finger', 'service_ftp', 'service_ftp_data', 'service_gopher', 'service_harvest', 'service_hostnames', 'service_http', 'service_http_2784', 'service_http_443', 'service_http_8001', 'service_imap4', 'service_iso_tsap', 'service_klogin', 'service_kshell', 'service_ldap', 'service_link', 'service_login', 'service_mtp', 'service_name', 'service_netbios_dgm', 'service_netbios_ns', 'service_netbios_ssn', 'service_netstat', 'service_nnsp', 'service_nntp', 'service_ntp_u', 'service_other', 'service_pm_dump', 'service_pop_2', 'service_pop_3', 'service_printer', 'service_private', 'service_red_i', 'service_remote_job', 'service_rje', 'service_shell', 'service_smtp', 'service_sql_net', 'service_ssh', 'service_sunrpc', 'service_supdup', 'service_systat', 'service_telnet', 'service_tftp_u', 'service_tim_i', 'service_time', 'service_urh_i', 'service_urp_i', 'service_uucp', 'service_uucp_path', 'service_vmnet', 'service_whois']\n",
            "['flag_OTH', 'flag_REJ', 'flag_RSTO', 'flag_RSTOS0', 'flag_RSTR', 'flag_S0', 'flag_S1', 'flag_S2', 'flag_S3', 'flag_SF', 'flag_SH']\n"
          ]
        }
      ],
      "metadata": {
        "colab": {
          "base_uri": "https://localhost:8080/"
        },
        "id": "DNVa7mN9X1qV",
        "outputId": "d90c8a31-cc0c-4250-b609-8f9374ed76e5"
      }
    },
    {
      "cell_type": "markdown",
      "source": [
        "**Transform categorical features into numbers using LabelEncoder()**"
      ],
      "metadata": {
        "id": "Nf-QhZyfX9Jd"
      }
    },
    {
      "cell_type": "code",
      "execution_count": null,
      "source": [
        "#transformation et encodage des données categoriel en numero avec le transformeur ordinal  LabelEncoder\r\n",
        "#la methode fit develope une fonction (un model) de transformation en analysant les données du train set \r\n",
        "# et la methode transform qui transforme que se soit les train set et les test set ou les donneés future\r\n",
        "#on a utilisé apply car Le transformeur LabelEncoder s'applique seulement sur une seul colonne \r\n",
        "\r\n",
        "df_categorical_values_enc=df_categorical_values.apply(LabelEncoder().fit_transform)\r\n",
        "\r\n",
        "print(df_categorical_values.head())\r\n",
        "print('--------------------')\r\n",
        "print(df_categorical_values_enc.head())\r\n",
        "\r\n",
        "# test set\r\n",
        "testdf_categorical_values_enc=testdf_categorical_values.apply(LabelEncoder().fit_transform)"
      ],
      "outputs": [
        {
          "output_type": "stream",
          "name": "stdout",
          "text": [
            "  protocol_type   service flag\n",
            "0           tcp  ftp_data   SF\n",
            "1           udp     other   SF\n",
            "2           tcp   private   S0\n",
            "3           tcp      http   SF\n",
            "4           tcp      http   SF\n",
            "--------------------\n",
            "   protocol_type  service  flag\n",
            "0              1       20     9\n",
            "1              2       44     9\n",
            "2              1       49     5\n",
            "3              1       24     9\n",
            "4              1       24     9\n"
          ]
        }
      ],
      "metadata": {
        "colab": {
          "base_uri": "https://localhost:8080/"
        },
        "id": "ta0CsfRUX5Tg",
        "outputId": "f455e11f-9a3c-470a-c8a0-c2a05743c97d"
      }
    },
    {
      "cell_type": "markdown",
      "source": [
        "**One-Hot-Encoding**"
      ],
      "metadata": {
        "id": "iq_pnkScYDOi"
      }
    },
    {
      "cell_type": "code",
      "execution_count": null,
      "source": [
        "#transformation de ce qui est transformer en numerique en encodage en binaire \r\n",
        "enc = OneHotEncoder(categories='auto')\r\n",
        "df_categorical_values_encenc = enc.fit_transform(df_categorical_values_enc)\r\n",
        "df_cat_data = pd.DataFrame(df_categorical_values_encenc.toarray(),columns=dumcols)\r\n",
        "\r\n",
        "\r\n",
        "# test set\r\n",
        "testdf_categorical_values_encenc = enc.fit_transform(testdf_categorical_values_enc)\r\n",
        "testdf_cat_data = pd.DataFrame(testdf_categorical_values_encenc.toarray(),columns=testdumcols)\r\n",
        "\r\n",
        "df_cat_data.head()"
      ],
      "outputs": [
        {
          "output_type": "execute_result",
          "data": {
            "text/html": [
              "<div>\n",
              "<style scoped>\n",
              "    .dataframe tbody tr th:only-of-type {\n",
              "        vertical-align: middle;\n",
              "    }\n",
              "\n",
              "    .dataframe tbody tr th {\n",
              "        vertical-align: top;\n",
              "    }\n",
              "\n",
              "    .dataframe thead th {\n",
              "        text-align: right;\n",
              "    }\n",
              "</style>\n",
              "<table border=\"1\" class=\"dataframe\">\n",
              "  <thead>\n",
              "    <tr style=\"text-align: right;\">\n",
              "      <th></th>\n",
              "      <th>Protocol_type_icmp</th>\n",
              "      <th>Protocol_type_tcp</th>\n",
              "      <th>Protocol_type_udp</th>\n",
              "      <th>service_IRC</th>\n",
              "      <th>service_X11</th>\n",
              "      <th>service_Z39_50</th>\n",
              "      <th>service_aol</th>\n",
              "      <th>service_auth</th>\n",
              "      <th>service_bgp</th>\n",
              "      <th>service_courier</th>\n",
              "      <th>service_csnet_ns</th>\n",
              "      <th>service_ctf</th>\n",
              "      <th>service_daytime</th>\n",
              "      <th>service_discard</th>\n",
              "      <th>service_domain</th>\n",
              "      <th>service_domain_u</th>\n",
              "      <th>service_echo</th>\n",
              "      <th>service_eco_i</th>\n",
              "      <th>service_ecr_i</th>\n",
              "      <th>service_efs</th>\n",
              "      <th>service_exec</th>\n",
              "      <th>service_finger</th>\n",
              "      <th>service_ftp</th>\n",
              "      <th>service_ftp_data</th>\n",
              "      <th>service_gopher</th>\n",
              "      <th>service_harvest</th>\n",
              "      <th>service_hostnames</th>\n",
              "      <th>service_http</th>\n",
              "      <th>service_http_2784</th>\n",
              "      <th>service_http_443</th>\n",
              "      <th>service_http_8001</th>\n",
              "      <th>service_imap4</th>\n",
              "      <th>service_iso_tsap</th>\n",
              "      <th>service_klogin</th>\n",
              "      <th>service_kshell</th>\n",
              "      <th>service_ldap</th>\n",
              "      <th>service_link</th>\n",
              "      <th>service_login</th>\n",
              "      <th>service_mtp</th>\n",
              "      <th>service_name</th>\n",
              "      <th>...</th>\n",
              "      <th>service_nnsp</th>\n",
              "      <th>service_nntp</th>\n",
              "      <th>service_ntp_u</th>\n",
              "      <th>service_other</th>\n",
              "      <th>service_pm_dump</th>\n",
              "      <th>service_pop_2</th>\n",
              "      <th>service_pop_3</th>\n",
              "      <th>service_printer</th>\n",
              "      <th>service_private</th>\n",
              "      <th>service_red_i</th>\n",
              "      <th>service_remote_job</th>\n",
              "      <th>service_rje</th>\n",
              "      <th>service_shell</th>\n",
              "      <th>service_smtp</th>\n",
              "      <th>service_sql_net</th>\n",
              "      <th>service_ssh</th>\n",
              "      <th>service_sunrpc</th>\n",
              "      <th>service_supdup</th>\n",
              "      <th>service_systat</th>\n",
              "      <th>service_telnet</th>\n",
              "      <th>service_tftp_u</th>\n",
              "      <th>service_tim_i</th>\n",
              "      <th>service_time</th>\n",
              "      <th>service_urh_i</th>\n",
              "      <th>service_urp_i</th>\n",
              "      <th>service_uucp</th>\n",
              "      <th>service_uucp_path</th>\n",
              "      <th>service_vmnet</th>\n",
              "      <th>service_whois</th>\n",
              "      <th>flag_OTH</th>\n",
              "      <th>flag_REJ</th>\n",
              "      <th>flag_RSTO</th>\n",
              "      <th>flag_RSTOS0</th>\n",
              "      <th>flag_RSTR</th>\n",
              "      <th>flag_S0</th>\n",
              "      <th>flag_S1</th>\n",
              "      <th>flag_S2</th>\n",
              "      <th>flag_S3</th>\n",
              "      <th>flag_SF</th>\n",
              "      <th>flag_SH</th>\n",
              "    </tr>\n",
              "  </thead>\n",
              "  <tbody>\n",
              "    <tr>\n",
              "      <th>0</th>\n",
              "      <td>0.0</td>\n",
              "      <td>1.0</td>\n",
              "      <td>0.0</td>\n",
              "      <td>0.0</td>\n",
              "      <td>0.0</td>\n",
              "      <td>0.0</td>\n",
              "      <td>0.0</td>\n",
              "      <td>0.0</td>\n",
              "      <td>0.0</td>\n",
              "      <td>0.0</td>\n",
              "      <td>0.0</td>\n",
              "      <td>0.0</td>\n",
              "      <td>0.0</td>\n",
              "      <td>0.0</td>\n",
              "      <td>0.0</td>\n",
              "      <td>0.0</td>\n",
              "      <td>0.0</td>\n",
              "      <td>0.0</td>\n",
              "      <td>0.0</td>\n",
              "      <td>0.0</td>\n",
              "      <td>0.0</td>\n",
              "      <td>0.0</td>\n",
              "      <td>0.0</td>\n",
              "      <td>1.0</td>\n",
              "      <td>0.0</td>\n",
              "      <td>0.0</td>\n",
              "      <td>0.0</td>\n",
              "      <td>0.0</td>\n",
              "      <td>0.0</td>\n",
              "      <td>0.0</td>\n",
              "      <td>0.0</td>\n",
              "      <td>0.0</td>\n",
              "      <td>0.0</td>\n",
              "      <td>0.0</td>\n",
              "      <td>0.0</td>\n",
              "      <td>0.0</td>\n",
              "      <td>0.0</td>\n",
              "      <td>0.0</td>\n",
              "      <td>0.0</td>\n",
              "      <td>0.0</td>\n",
              "      <td>...</td>\n",
              "      <td>0.0</td>\n",
              "      <td>0.0</td>\n",
              "      <td>0.0</td>\n",
              "      <td>0.0</td>\n",
              "      <td>0.0</td>\n",
              "      <td>0.0</td>\n",
              "      <td>0.0</td>\n",
              "      <td>0.0</td>\n",
              "      <td>0.0</td>\n",
              "      <td>0.0</td>\n",
              "      <td>0.0</td>\n",
              "      <td>0.0</td>\n",
              "      <td>0.0</td>\n",
              "      <td>0.0</td>\n",
              "      <td>0.0</td>\n",
              "      <td>0.0</td>\n",
              "      <td>0.0</td>\n",
              "      <td>0.0</td>\n",
              "      <td>0.0</td>\n",
              "      <td>0.0</td>\n",
              "      <td>0.0</td>\n",
              "      <td>0.0</td>\n",
              "      <td>0.0</td>\n",
              "      <td>0.0</td>\n",
              "      <td>0.0</td>\n",
              "      <td>0.0</td>\n",
              "      <td>0.0</td>\n",
              "      <td>0.0</td>\n",
              "      <td>0.0</td>\n",
              "      <td>0.0</td>\n",
              "      <td>0.0</td>\n",
              "      <td>0.0</td>\n",
              "      <td>0.0</td>\n",
              "      <td>0.0</td>\n",
              "      <td>0.0</td>\n",
              "      <td>0.0</td>\n",
              "      <td>0.0</td>\n",
              "      <td>0.0</td>\n",
              "      <td>1.0</td>\n",
              "      <td>0.0</td>\n",
              "    </tr>\n",
              "    <tr>\n",
              "      <th>1</th>\n",
              "      <td>0.0</td>\n",
              "      <td>0.0</td>\n",
              "      <td>1.0</td>\n",
              "      <td>0.0</td>\n",
              "      <td>0.0</td>\n",
              "      <td>0.0</td>\n",
              "      <td>0.0</td>\n",
              "      <td>0.0</td>\n",
              "      <td>0.0</td>\n",
              "      <td>0.0</td>\n",
              "      <td>0.0</td>\n",
              "      <td>0.0</td>\n",
              "      <td>0.0</td>\n",
              "      <td>0.0</td>\n",
              "      <td>0.0</td>\n",
              "      <td>0.0</td>\n",
              "      <td>0.0</td>\n",
              "      <td>0.0</td>\n",
              "      <td>0.0</td>\n",
              "      <td>0.0</td>\n",
              "      <td>0.0</td>\n",
              "      <td>0.0</td>\n",
              "      <td>0.0</td>\n",
              "      <td>0.0</td>\n",
              "      <td>0.0</td>\n",
              "      <td>0.0</td>\n",
              "      <td>0.0</td>\n",
              "      <td>0.0</td>\n",
              "      <td>0.0</td>\n",
              "      <td>0.0</td>\n",
              "      <td>0.0</td>\n",
              "      <td>0.0</td>\n",
              "      <td>0.0</td>\n",
              "      <td>0.0</td>\n",
              "      <td>0.0</td>\n",
              "      <td>0.0</td>\n",
              "      <td>0.0</td>\n",
              "      <td>0.0</td>\n",
              "      <td>0.0</td>\n",
              "      <td>0.0</td>\n",
              "      <td>...</td>\n",
              "      <td>0.0</td>\n",
              "      <td>0.0</td>\n",
              "      <td>0.0</td>\n",
              "      <td>1.0</td>\n",
              "      <td>0.0</td>\n",
              "      <td>0.0</td>\n",
              "      <td>0.0</td>\n",
              "      <td>0.0</td>\n",
              "      <td>0.0</td>\n",
              "      <td>0.0</td>\n",
              "      <td>0.0</td>\n",
              "      <td>0.0</td>\n",
              "      <td>0.0</td>\n",
              "      <td>0.0</td>\n",
              "      <td>0.0</td>\n",
              "      <td>0.0</td>\n",
              "      <td>0.0</td>\n",
              "      <td>0.0</td>\n",
              "      <td>0.0</td>\n",
              "      <td>0.0</td>\n",
              "      <td>0.0</td>\n",
              "      <td>0.0</td>\n",
              "      <td>0.0</td>\n",
              "      <td>0.0</td>\n",
              "      <td>0.0</td>\n",
              "      <td>0.0</td>\n",
              "      <td>0.0</td>\n",
              "      <td>0.0</td>\n",
              "      <td>0.0</td>\n",
              "      <td>0.0</td>\n",
              "      <td>0.0</td>\n",
              "      <td>0.0</td>\n",
              "      <td>0.0</td>\n",
              "      <td>0.0</td>\n",
              "      <td>0.0</td>\n",
              "      <td>0.0</td>\n",
              "      <td>0.0</td>\n",
              "      <td>0.0</td>\n",
              "      <td>1.0</td>\n",
              "      <td>0.0</td>\n",
              "    </tr>\n",
              "    <tr>\n",
              "      <th>2</th>\n",
              "      <td>0.0</td>\n",
              "      <td>1.0</td>\n",
              "      <td>0.0</td>\n",
              "      <td>0.0</td>\n",
              "      <td>0.0</td>\n",
              "      <td>0.0</td>\n",
              "      <td>0.0</td>\n",
              "      <td>0.0</td>\n",
              "      <td>0.0</td>\n",
              "      <td>0.0</td>\n",
              "      <td>0.0</td>\n",
              "      <td>0.0</td>\n",
              "      <td>0.0</td>\n",
              "      <td>0.0</td>\n",
              "      <td>0.0</td>\n",
              "      <td>0.0</td>\n",
              "      <td>0.0</td>\n",
              "      <td>0.0</td>\n",
              "      <td>0.0</td>\n",
              "      <td>0.0</td>\n",
              "      <td>0.0</td>\n",
              "      <td>0.0</td>\n",
              "      <td>0.0</td>\n",
              "      <td>0.0</td>\n",
              "      <td>0.0</td>\n",
              "      <td>0.0</td>\n",
              "      <td>0.0</td>\n",
              "      <td>0.0</td>\n",
              "      <td>0.0</td>\n",
              "      <td>0.0</td>\n",
              "      <td>0.0</td>\n",
              "      <td>0.0</td>\n",
              "      <td>0.0</td>\n",
              "      <td>0.0</td>\n",
              "      <td>0.0</td>\n",
              "      <td>0.0</td>\n",
              "      <td>0.0</td>\n",
              "      <td>0.0</td>\n",
              "      <td>0.0</td>\n",
              "      <td>0.0</td>\n",
              "      <td>...</td>\n",
              "      <td>0.0</td>\n",
              "      <td>0.0</td>\n",
              "      <td>0.0</td>\n",
              "      <td>0.0</td>\n",
              "      <td>0.0</td>\n",
              "      <td>0.0</td>\n",
              "      <td>0.0</td>\n",
              "      <td>0.0</td>\n",
              "      <td>1.0</td>\n",
              "      <td>0.0</td>\n",
              "      <td>0.0</td>\n",
              "      <td>0.0</td>\n",
              "      <td>0.0</td>\n",
              "      <td>0.0</td>\n",
              "      <td>0.0</td>\n",
              "      <td>0.0</td>\n",
              "      <td>0.0</td>\n",
              "      <td>0.0</td>\n",
              "      <td>0.0</td>\n",
              "      <td>0.0</td>\n",
              "      <td>0.0</td>\n",
              "      <td>0.0</td>\n",
              "      <td>0.0</td>\n",
              "      <td>0.0</td>\n",
              "      <td>0.0</td>\n",
              "      <td>0.0</td>\n",
              "      <td>0.0</td>\n",
              "      <td>0.0</td>\n",
              "      <td>0.0</td>\n",
              "      <td>0.0</td>\n",
              "      <td>0.0</td>\n",
              "      <td>0.0</td>\n",
              "      <td>0.0</td>\n",
              "      <td>0.0</td>\n",
              "      <td>1.0</td>\n",
              "      <td>0.0</td>\n",
              "      <td>0.0</td>\n",
              "      <td>0.0</td>\n",
              "      <td>0.0</td>\n",
              "      <td>0.0</td>\n",
              "    </tr>\n",
              "    <tr>\n",
              "      <th>3</th>\n",
              "      <td>0.0</td>\n",
              "      <td>1.0</td>\n",
              "      <td>0.0</td>\n",
              "      <td>0.0</td>\n",
              "      <td>0.0</td>\n",
              "      <td>0.0</td>\n",
              "      <td>0.0</td>\n",
              "      <td>0.0</td>\n",
              "      <td>0.0</td>\n",
              "      <td>0.0</td>\n",
              "      <td>0.0</td>\n",
              "      <td>0.0</td>\n",
              "      <td>0.0</td>\n",
              "      <td>0.0</td>\n",
              "      <td>0.0</td>\n",
              "      <td>0.0</td>\n",
              "      <td>0.0</td>\n",
              "      <td>0.0</td>\n",
              "      <td>0.0</td>\n",
              "      <td>0.0</td>\n",
              "      <td>0.0</td>\n",
              "      <td>0.0</td>\n",
              "      <td>0.0</td>\n",
              "      <td>0.0</td>\n",
              "      <td>0.0</td>\n",
              "      <td>0.0</td>\n",
              "      <td>0.0</td>\n",
              "      <td>1.0</td>\n",
              "      <td>0.0</td>\n",
              "      <td>0.0</td>\n",
              "      <td>0.0</td>\n",
              "      <td>0.0</td>\n",
              "      <td>0.0</td>\n",
              "      <td>0.0</td>\n",
              "      <td>0.0</td>\n",
              "      <td>0.0</td>\n",
              "      <td>0.0</td>\n",
              "      <td>0.0</td>\n",
              "      <td>0.0</td>\n",
              "      <td>0.0</td>\n",
              "      <td>...</td>\n",
              "      <td>0.0</td>\n",
              "      <td>0.0</td>\n",
              "      <td>0.0</td>\n",
              "      <td>0.0</td>\n",
              "      <td>0.0</td>\n",
              "      <td>0.0</td>\n",
              "      <td>0.0</td>\n",
              "      <td>0.0</td>\n",
              "      <td>0.0</td>\n",
              "      <td>0.0</td>\n",
              "      <td>0.0</td>\n",
              "      <td>0.0</td>\n",
              "      <td>0.0</td>\n",
              "      <td>0.0</td>\n",
              "      <td>0.0</td>\n",
              "      <td>0.0</td>\n",
              "      <td>0.0</td>\n",
              "      <td>0.0</td>\n",
              "      <td>0.0</td>\n",
              "      <td>0.0</td>\n",
              "      <td>0.0</td>\n",
              "      <td>0.0</td>\n",
              "      <td>0.0</td>\n",
              "      <td>0.0</td>\n",
              "      <td>0.0</td>\n",
              "      <td>0.0</td>\n",
              "      <td>0.0</td>\n",
              "      <td>0.0</td>\n",
              "      <td>0.0</td>\n",
              "      <td>0.0</td>\n",
              "      <td>0.0</td>\n",
              "      <td>0.0</td>\n",
              "      <td>0.0</td>\n",
              "      <td>0.0</td>\n",
              "      <td>0.0</td>\n",
              "      <td>0.0</td>\n",
              "      <td>0.0</td>\n",
              "      <td>0.0</td>\n",
              "      <td>1.0</td>\n",
              "      <td>0.0</td>\n",
              "    </tr>\n",
              "    <tr>\n",
              "      <th>4</th>\n",
              "      <td>0.0</td>\n",
              "      <td>1.0</td>\n",
              "      <td>0.0</td>\n",
              "      <td>0.0</td>\n",
              "      <td>0.0</td>\n",
              "      <td>0.0</td>\n",
              "      <td>0.0</td>\n",
              "      <td>0.0</td>\n",
              "      <td>0.0</td>\n",
              "      <td>0.0</td>\n",
              "      <td>0.0</td>\n",
              "      <td>0.0</td>\n",
              "      <td>0.0</td>\n",
              "      <td>0.0</td>\n",
              "      <td>0.0</td>\n",
              "      <td>0.0</td>\n",
              "      <td>0.0</td>\n",
              "      <td>0.0</td>\n",
              "      <td>0.0</td>\n",
              "      <td>0.0</td>\n",
              "      <td>0.0</td>\n",
              "      <td>0.0</td>\n",
              "      <td>0.0</td>\n",
              "      <td>0.0</td>\n",
              "      <td>0.0</td>\n",
              "      <td>0.0</td>\n",
              "      <td>0.0</td>\n",
              "      <td>1.0</td>\n",
              "      <td>0.0</td>\n",
              "      <td>0.0</td>\n",
              "      <td>0.0</td>\n",
              "      <td>0.0</td>\n",
              "      <td>0.0</td>\n",
              "      <td>0.0</td>\n",
              "      <td>0.0</td>\n",
              "      <td>0.0</td>\n",
              "      <td>0.0</td>\n",
              "      <td>0.0</td>\n",
              "      <td>0.0</td>\n",
              "      <td>0.0</td>\n",
              "      <td>...</td>\n",
              "      <td>0.0</td>\n",
              "      <td>0.0</td>\n",
              "      <td>0.0</td>\n",
              "      <td>0.0</td>\n",
              "      <td>0.0</td>\n",
              "      <td>0.0</td>\n",
              "      <td>0.0</td>\n",
              "      <td>0.0</td>\n",
              "      <td>0.0</td>\n",
              "      <td>0.0</td>\n",
              "      <td>0.0</td>\n",
              "      <td>0.0</td>\n",
              "      <td>0.0</td>\n",
              "      <td>0.0</td>\n",
              "      <td>0.0</td>\n",
              "      <td>0.0</td>\n",
              "      <td>0.0</td>\n",
              "      <td>0.0</td>\n",
              "      <td>0.0</td>\n",
              "      <td>0.0</td>\n",
              "      <td>0.0</td>\n",
              "      <td>0.0</td>\n",
              "      <td>0.0</td>\n",
              "      <td>0.0</td>\n",
              "      <td>0.0</td>\n",
              "      <td>0.0</td>\n",
              "      <td>0.0</td>\n",
              "      <td>0.0</td>\n",
              "      <td>0.0</td>\n",
              "      <td>0.0</td>\n",
              "      <td>0.0</td>\n",
              "      <td>0.0</td>\n",
              "      <td>0.0</td>\n",
              "      <td>0.0</td>\n",
              "      <td>0.0</td>\n",
              "      <td>0.0</td>\n",
              "      <td>0.0</td>\n",
              "      <td>0.0</td>\n",
              "      <td>1.0</td>\n",
              "      <td>0.0</td>\n",
              "    </tr>\n",
              "  </tbody>\n",
              "</table>\n",
              "<p>5 rows × 84 columns</p>\n",
              "</div>"
            ],
            "text/plain": [
              "   Protocol_type_icmp  Protocol_type_tcp  ...  flag_SF  flag_SH\n",
              "0                 0.0                1.0  ...      1.0      0.0\n",
              "1                 0.0                0.0  ...      1.0      0.0\n",
              "2                 0.0                1.0  ...      0.0      0.0\n",
              "3                 0.0                1.0  ...      1.0      0.0\n",
              "4                 0.0                1.0  ...      1.0      0.0\n",
              "\n",
              "[5 rows x 84 columns]"
            ]
          },
          "metadata": {},
          "execution_count": 11
        }
      ],
      "metadata": {
        "colab": {
          "base_uri": "https://localhost:8080/",
          "height": 255
        },
        "id": "MVBytj5dYGDu",
        "outputId": "0b9779d7-6653-4864-b437-e26e5671d3e8"
      }
    },
    {
      "cell_type": "markdown",
      "source": [
        "Les colonnes manquantes de l'ensemble de test sont ajoutées "
      ],
      "metadata": {
        "id": "7D-ZvKY6bS-r"
      }
    },
    {
      "cell_type": "code",
      "execution_count": null,
      "source": [
        "trainservice=df['service'].tolist()\r\n",
        "testservice= df_test['service'].tolist()\r\n",
        "difference=list(set(trainservice) - set(testservice))\r\n",
        "string = 'service_'\r\n",
        "difference=[string + x for x in difference]\r\n",
        "difference"
      ],
      "outputs": [
        {
          "output_type": "execute_result",
          "data": {
            "text/plain": [
              "['service_red_i',\n",
              " 'service_aol',\n",
              " 'service_urh_i',\n",
              " 'service_harvest',\n",
              " 'service_http_8001',\n",
              " 'service_http_2784']"
            ]
          },
          "metadata": {},
          "execution_count": 12
        }
      ],
      "metadata": {
        "colab": {
          "base_uri": "https://localhost:8080/"
        },
        "id": "HxTdPirkbW-V",
        "outputId": "86213068-ebc4-46d6-8b7a-a567ad48b685"
      }
    },
    {
      "cell_type": "code",
      "execution_count": null,
      "source": [
        "for col in difference:\r\n",
        "    testdf_cat_data[col] = 0\r\n",
        "\r\n",
        "print(df_cat_data.shape)    \r\n",
        "print(testdf_cat_data.shape)"
      ],
      "outputs": [
        {
          "output_type": "stream",
          "name": "stdout",
          "text": [
            "(125973, 84)\n",
            "(22544, 84)\n"
          ]
        }
      ],
      "metadata": {
        "colab": {
          "base_uri": "https://localhost:8080/"
        },
        "id": "tpBVYECtcN02",
        "outputId": "67631056-c2e9-48bc-90a4-0703a9038085"
      }
    },
    {
      "cell_type": "markdown",
      "source": [
        "**Le Dataframe principal est également ajouté aux nouvelles colonnes numériques**"
      ],
      "metadata": {
        "id": "4Vsl_YcrcSd8"
      }
    },
    {
      "cell_type": "code",
      "execution_count": null,
      "source": [
        "newdf=df.join(df_cat_data)\r\n",
        "newdf.drop('flag', axis=1, inplace=True)\r\n",
        "newdf.drop('protocol_type', axis=1, inplace=True)\r\n",
        "newdf.drop('service', axis=1, inplace=True)\r\n",
        "\r\n",
        "# test data\r\n",
        "newdf_test=df_test.join(testdf_cat_data)\r\n",
        "newdf_test.drop('flag', axis=1, inplace=True)\r\n",
        "newdf_test.drop('protocol_type', axis=1, inplace=True)\r\n",
        "newdf_test.drop('service', axis=1, inplace=True)\r\n",
        "\r\n",
        "print(newdf.shape)\r\n",
        "print(newdf_test.shape)"
      ],
      "outputs": [
        {
          "output_type": "stream",
          "name": "stdout",
          "text": [
            "(125973, 123)\n",
            "(22544, 123)\n"
          ]
        }
      ],
      "metadata": {
        "colab": {
          "base_uri": "https://localhost:8080/"
        },
        "id": "KOXgIdAZcVAF",
        "outputId": "23c94d95-56c1-40b0-89e4-eb49d1e5b518"
      }
    },
    {
      "cell_type": "markdown",
      "source": [
        " L'ensemble de données a été divisé en ensembles de données distincts pour chaque catégorie d'attaque. Tags d'attaque renommés pour chacun. 0=Normal, 1=DoS, 2=Probe, 3=R2L, 4=U2R.  \n",
        "Colonne d'étiquette remplacée par de nouvelles valeurs dans de nouveaux ensembles de données.\n",
        " \n",
        " DoS : \n",
        " \n",
        " Probe : \n",
        " \n",
        " R2L :\n",
        " \n",
        " U2R :"
      ],
      "metadata": {
        "id": "dZsTN_Xoca_b"
      }
    },
    {
      "cell_type": "code",
      "execution_count": null,
      "source": [
        "labeldf=newdf['label']\r\n",
        "labeldf_test=newdf_test['label']\r\n",
        "\r\n",
        "\r\n",
        "# change the label column\r\n",
        "newlabeldf=labeldf.replace({ 'normal' : 0, 'neptune' : 1 ,'back': 1, 'land': 1, 'pod': 1, 'smurf': 1, 'teardrop': 1,'mailbomb': 1, 'apache2': 1, 'processtable': 1, 'udpstorm': 1, 'worm': 1,\r\n",
        "                           'ipsweep' : 2,'nmap' : 2,'portsweep' : 2,'satan' : 2,'mscan' : 2,'saint' : 2\r\n",
        "                           ,'ftp_write': 3,'guess_passwd': 3,'imap': 3,'multihop': 3,'phf': 3,'spy': 3,'warezclient': 3,'warezmaster': 3,'sendmail': 3,'named': 3,'snmpgetattack': 3,'snmpguess': 3,'xlock': 3,'xsnoop': 3,'httptunnel': 3,\r\n",
        "                           'buffer_overflow': 4,'loadmodule': 4,'perl': 4,'rootkit': 4,'ps': 4,'sqlattack': 4,'xterm': 4})\r\n",
        "newlabeldf_test=labeldf_test.replace({ 'normal' : 0, 'neptune' : 1 ,'back': 1, 'land': 1, 'pod': 1, 'smurf': 1, 'teardrop': 1,'mailbomb': 1, 'apache2': 1, 'processtable': 1, 'udpstorm': 1, 'worm': 1,\r\n",
        "                           'ipsweep' : 2,'nmap' : 2,'portsweep' : 2,'satan' : 2,'mscan' : 2,'saint' : 2\r\n",
        "                           ,'ftp_write': 3,'guess_passwd': 3,'imap': 3,'multihop': 3,'phf': 3,'spy': 3,'warezclient': 3,'warezmaster': 3,'sendmail': 3,'named': 3,'snmpgetattack': 3,'snmpguess': 3,'xlock': 3,'xsnoop': 3,'httptunnel': 3,\r\n",
        "                           'buffer_overflow': 4,'loadmodule': 4,'perl': 4,'rootkit': 4,'ps': 4,'sqlattack': 4,'xterm': 4})\r\n",
        "\r\n",
        "\r\n",
        "\r\n",
        "# put the new label column back\r\n",
        "newdf['label'] = newlabeldf\r\n",
        "newdf_test['label'] = newlabeldf_test"
      ],
      "outputs": [],
      "metadata": {
        "id": "706-Qqhycc_-"
      }
    },
    {
      "cell_type": "code",
      "execution_count": null,
      "source": [
        "to_drop_DoS = [0,1]\r\n",
        "to_drop_Probe = [0,2]\r\n",
        "to_drop_R2L = [0,3]\r\n",
        "to_drop_U2R = [0,4]\r\n",
        "\r\n",
        "# Kendisi dışındaki label değerine sahip tüm satırları filtrele\r\n",
        "# isin filter function\r\n",
        "\r\n",
        "DoS_df=newdf[newdf['label'].isin(to_drop_DoS)];\r\n",
        "Probe_df=newdf[newdf['label'].isin(to_drop_Probe)];\r\n",
        "R2L_df=newdf[newdf['label'].isin(to_drop_R2L)];\r\n",
        "U2R_df=newdf[newdf['label'].isin(to_drop_U2R)];\r\n",
        "\r\n",
        "\r\n",
        "\r\n",
        "#test\r\n",
        "DoS_df_test=newdf_test[newdf_test['label'].isin(to_drop_DoS)];\r\n",
        "Probe_df_test=newdf_test[newdf_test['label'].isin(to_drop_Probe)];\r\n",
        "R2L_df_test=newdf_test[newdf_test['label'].isin(to_drop_R2L)];\r\n",
        "U2R_df_test=newdf_test[newdf_test['label'].isin(to_drop_U2R)];\r\n",
        "\r\n",
        "\r\n",
        "print('Train:')\r\n",
        "print('Dimensions of DoS:' ,DoS_df.shape)\r\n",
        "print('Dimensions of Probe:' ,Probe_df.shape)\r\n",
        "print('Dimensions of R2L:' ,R2L_df.shape)\r\n",
        "print('Dimensions of U2R:' ,U2R_df.shape)\r\n",
        "print()\r\n",
        "print('Test:')\r\n",
        "print('Dimensions of DoS:' ,DoS_df_test.shape)\r\n",
        "print('Dimensions of Probe:' ,Probe_df_test.shape)\r\n",
        "print('Dimensions of R2L:' ,R2L_df_test.shape)\r\n",
        "print('Dimensions of U2R:' ,U2R_df_test.shape)"
      ],
      "outputs": [
        {
          "output_type": "stream",
          "name": "stdout",
          "text": [
            "Train:\n",
            "Dimensions of DoS: (113270, 123)\n",
            "Dimensions of Probe: (78999, 123)\n",
            "Dimensions of R2L: (68338, 123)\n",
            "Dimensions of U2R: (67395, 123)\n",
            "\n",
            "Test:\n",
            "Dimensions of DoS: (17171, 123)\n",
            "Dimensions of Probe: (12132, 123)\n",
            "Dimensions of R2L: (12596, 123)\n",
            "Dimensions of U2R: (9778, 123)\n"
          ]
        }
      ],
      "metadata": {
        "colab": {
          "base_uri": "https://localhost:8080/"
        },
        "id": "Bu7S66qJcw56",
        "outputId": "69a7a151-733f-429a-938b-4a2454726a0e"
      }
    },
    {
      "cell_type": "markdown",
      "source": [
        "**Step 2: Feature Scaling**"
      ],
      "metadata": {
        "id": "Dvi-Oglzc5Bs"
      }
    },
    {
      "cell_type": "code",
      "execution_count": null,
      "source": [
        "# Split dataframes into X & Y\r\n",
        "# X sont les caracteristiques , Y les label(resultat)\r\n",
        "\r\n",
        "X_DoS = DoS_df.drop('label',1)\r\n",
        "Y_DoS = DoS_df.label\r\n",
        "\r\n",
        "X_Probe = Probe_df.drop('label',1)\r\n",
        "Y_Probe = Probe_df.label\r\n",
        "\r\n",
        "X_R2L = R2L_df.drop('label',1)\r\n",
        "Y_R2L = R2L_df.label\r\n",
        "\r\n",
        "X_U2R = U2R_df.drop('label',1)\r\n",
        "Y_U2R = U2R_df.label\r\n",
        "\r\n",
        "# test set\r\n",
        "X_DoS_test = DoS_df_test.drop('label',1)\r\n",
        "Y_DoS_test = DoS_df_test.label\r\n",
        "\r\n",
        "X_Probe_test = Probe_df_test.drop('label',1)\r\n",
        "Y_Probe_test = Probe_df_test.label\r\n",
        "\r\n",
        "X_R2L_test = R2L_df_test.drop('label',1)\r\n",
        "Y_R2L_test = R2L_df_test.label\r\n",
        "\r\n",
        "X_U2R_test = U2R_df_test.drop('label',1)\r\n",
        "Y_U2R_test = U2R_df_test.label\r\n"
      ],
      "outputs": [],
      "metadata": {
        "id": "-VeQhD09c6qT"
      }
    },
    {
      "cell_type": "markdown",
      "source": [
        "**Nous enregistrons des noms de colonnes pour utiliser les noms de colonnes à ce stade plus tard.**"
      ],
      "metadata": {
        "id": "yl7gee3KdAb5"
      }
    },
    {
      "cell_type": "code",
      "execution_count": null,
      "source": [
        "colNames=list(X_DoS)\r\n",
        "colNames_test=list(X_DoS_test)"
      ],
      "outputs": [],
      "metadata": {
        "id": "2nWS5oukdFS6"
      }
    },
    {
      "cell_type": "code",
      "execution_count": null,
      "source": [
        "#phase de normalisation des données encodés c'est a dire les mettre toutes sur le meme echelle pour facilité l'apprentissage surtout \r\n",
        "#pour les algorithme qui se base sur le calcule comme la desente de gradient , le calcule de distance et le calcule de variance\r\n",
        "# il faut faire attention car l'inconvenient de la standarisation est avec la presence des valeurs aberrantes qu'ils vont fautu  nos données car StandardScaler est basé sur la moyenne \r\n",
        "# alors comme solution à cette situation on utilise le RobustScaler qui est basé sur le mediane\r\n",
        "\r\n",
        "\r\n",
        "from sklearn import preprocessing\r\n",
        "\r\n",
        "scaler1 = preprocessing.StandardScaler().fit(X_DoS)\r\n",
        "X_DoS=scaler1.transform(X_DoS) \r\n",
        "\r\n",
        "scaler2 = preprocessing.StandardScaler().fit(X_Probe)\r\n",
        "X_Probe=scaler2.transform(X_Probe)\r\n",
        "\r\n",
        "scaler3 = preprocessing.StandardScaler().fit(X_R2L)\r\n",
        "X_R2L=scaler3.transform(X_R2L)\r\n",
        "\r\n",
        "scaler4 = preprocessing.StandardScaler().fit(X_U2R)\r\n",
        "X_U2R=scaler4.transform(X_U2R) \r\n",
        "\r\n",
        "# test data\r\n",
        "scaler5 = preprocessing.StandardScaler().fit(X_DoS_test)\r\n",
        "X_DoS_test=scaler5.transform(X_DoS_test) \r\n",
        "\r\n",
        "scaler6 = preprocessing.StandardScaler().fit(X_Probe_test)\r\n",
        "X_Probe_test=scaler6.transform(X_Probe_test) \r\n",
        "\r\n",
        "scaler7 = preprocessing.StandardScaler().fit(X_R2L_test)\r\n",
        "X_R2L_test=scaler7.transform(X_R2L_test) \r\n",
        "\r\n",
        "scaler8 = preprocessing.StandardScaler().fit(X_U2R_test)\r\n",
        "X_U2R_test=scaler8.transform(X_U2R_test)"
      ],
      "outputs": [],
      "metadata": {
        "id": "FEBafDjodRcT"
      }
    },
    {
      "cell_type": "markdown",
      "source": [
        "**Step 3: Feature Selection:**\n",
        "\n",
        "---"
      ],
      "metadata": {
        "id": "pc2v2hb9dc8s"
      }
    },
    {
      "cell_type": "markdown",
      "source": [
        "**Recursive Feature Elimination (RFE) , top 13 variables en tant que groupe**"
      ],
      "metadata": {
        "id": "k04dKGOWepgB"
      }
    },
    {
      "cell_type": "markdown",
      "source": [
        "# Random Forest"
      ],
      "metadata": {
        "id": "oR4xlXjlM2_M"
      }
    },
    {
      "cell_type": "code",
      "execution_count": null,
      "source": [
        "from sklearn.feature_selection import RFE\r\n",
        "from sklearn.ensemble import RandomForestClassifier\r\n",
        "\r\n",
        "\r\n",
        "clf = RandomForestClassifier(n_estimators=10,n_jobs=2)\r\n",
        "rfe = RFE(estimator=clf, n_features_to_select=13, step=1)\r\n",
        "\r\n",
        "rfe.fit(X_DoS, Y_DoS.astype(int))\r\n",
        "X_rfeDoS=rfe.transform(X_DoS)\r\n",
        "true=rfe.support_\r\n",
        "rfecolindex_DoS=[i for i, x in enumerate(true) if x]\r\n",
        "rfecolname_DoS=list(colNames[i] for i in rfecolindex_DoS)"
      ],
      "outputs": [],
      "metadata": {
        "id": "paIjq2cci39w"
      }
    },
    {
      "cell_type": "code",
      "execution_count": null,
      "source": [
        "rfe.fit(X_Probe, Y_Probe.astype(int))\r\n",
        "X_rfeProbe=rfe.transform(X_Probe)\r\n",
        "true=rfe.support_\r\n",
        "rfecolindex_Probe=[i for i, x in enumerate(true) if x]\r\n",
        "rfecolname_Probe=list(colNames[i] for i in rfecolindex_Probe)\r\n"
      ],
      "outputs": [],
      "metadata": {
        "id": "WLTTTvNIjcSc"
      }
    },
    {
      "cell_type": "code",
      "execution_count": null,
      "source": [
        "rfe.fit(X_R2L, Y_R2L.astype(int))\r\n",
        "X_rfeR2L=rfe.transform(X_R2L)\r\n",
        "true=rfe.support_\r\n",
        "rfecolindex_R2L=[i for i, x in enumerate(true) if x]\r\n",
        "rfecolname_R2L=list(colNames[i] for i in rfecolindex_R2L)"
      ],
      "outputs": [],
      "metadata": {
        "id": "EdT_PCLPkHiu"
      }
    },
    {
      "cell_type": "code",
      "execution_count": null,
      "source": [
        "rfe.fit(X_U2R, Y_U2R.astype(int))\r\n",
        "X_rfeU2R=rfe.transform(X_U2R)\r\n",
        "true=rfe.support_\r\n",
        "rfecolindex_U2R=[i for i, x in enumerate(true) if x]\r\n",
        "rfecolname_U2R=list(colNames[i] for i in rfecolindex_U2R)"
      ],
      "outputs": [],
      "metadata": {
        "id": "G9DtjxmDkhTL"
      }
    },
    {
      "cell_type": "markdown",
      "source": [
        "**Summary of features selected by RFE**"
      ],
      "metadata": {
        "id": "z07YGhS3k8tN"
      }
    },
    {
      "cell_type": "code",
      "execution_count": null,
      "source": [
        "print('Features selected for DoS:',rfecolname_DoS)\r\n",
        "print()\r\n",
        "print('Features selected for Probe:',rfecolname_Probe)\r\n",
        "print()\r\n",
        "print('Features selected for R2L:',rfecolname_R2L)\r\n",
        "print()\r\n",
        "print('Features selected for U2R:',rfecolname_U2R)\r\n"
      ],
      "outputs": [
        {
          "output_type": "stream",
          "name": "stdout",
          "text": [
            "Features selected for DoS: ['src_bytes', 'dst_bytes', 'wrong_fragment', 'hot', 'count', 'srv_count', 'same_srv_rate', 'diff_srv_rate', 'dst_host_same_srv_rate', 'dst_host_serror_rate', 'Protocol_type_icmp', 'service_ecr_i', 'flag_SF']\n",
            "\n",
            "Features selected for Probe: ['src_bytes', 'dst_bytes', 'dst_host_count', 'dst_host_srv_count', 'dst_host_same_srv_rate', 'dst_host_diff_srv_rate', 'dst_host_same_src_port_rate', 'dst_host_rerror_rate', 'Protocol_type_icmp', 'Protocol_type_tcp', 'service_eco_i', 'service_http', 'service_private']\n",
            "\n",
            "Features selected for R2L: ['duration', 'src_bytes', 'dst_bytes', 'hot', 'num_failed_logins', 'logged_in', 'is_guest_login', 'dst_host_count', 'dst_host_srv_count', 'dst_host_same_srv_rate', 'dst_host_same_src_port_rate', 'dst_host_srv_diff_host_rate', 'service_ftp_data']\n",
            "\n",
            "Features selected for U2R: ['duration', 'src_bytes', 'dst_bytes', 'hot', 'num_compromised', 'root_shell', 'num_file_creations', 'dst_host_count', 'dst_host_srv_count', 'dst_host_diff_srv_rate', 'dst_host_same_src_port_rate', 'dst_host_srv_diff_host_rate', 'service_ftp_data']\n"
          ]
        }
      ],
      "metadata": {
        "colab": {
          "base_uri": "https://localhost:8080/"
        },
        "id": "ej29Qdlxk6KO",
        "outputId": "9f9002b1-ade7-45ee-fc78-33b285d93361"
      }
    },
    {
      "cell_type": "code",
      "execution_count": null,
      "source": [
        "print(X_rfeDoS.shape)\r\n",
        "print(X_rfeProbe.shape)\r\n",
        "print(X_rfeR2L.shape)\r\n",
        "print(X_rfeU2R.shape)\r\n"
      ],
      "outputs": [
        {
          "output_type": "stream",
          "name": "stdout",
          "text": [
            "(113270, 13)\n",
            "(78999, 13)\n",
            "(68338, 13)\n",
            "(67395, 13)\n"
          ]
        }
      ],
      "metadata": {
        "colab": {
          "base_uri": "https://localhost:8080/"
        },
        "id": "25gCTl0HlCrP",
        "outputId": "ca006f1f-6bcd-4432-9029-54178a48f50e"
      }
    },
    {
      "cell_type": "markdown",
      "source": [
        "**Step 4: Build the model:**\n",
        "\n",
        "Classifier is trained for all features and for reduced features, for later comparison.\n",
        "\n",
        "The classifier model itself is stored in the clf variable."
      ],
      "metadata": {
        "id": "UIy12t5AlHMB"
      }
    },
    {
      "cell_type": "code",
      "execution_count": null,
      "source": [
        "# all features\r\n",
        "clf_DoS=RandomForestClassifier(n_estimators=10,n_jobs=2)\r\n",
        "clf_Probe=RandomForestClassifier(n_estimators=10,n_jobs=2)\r\n",
        "clf_R2L=RandomForestClassifier(n_estimators=10,n_jobs=2)\r\n",
        "clf_U2R=RandomForestClassifier(n_estimators=10,n_jobs=2)\r\n",
        "clf_DoS.fit(X_DoS, Y_DoS.astype(int))\r\n",
        "clf_Probe.fit(X_Probe, Y_Probe.astype(int))\r\n",
        "clf_R2L.fit(X_R2L, Y_R2L.astype(int))\r\n",
        "clf_U2R.fit(X_U2R, Y_U2R.astype(int))"
      ],
      "outputs": [
        {
          "output_type": "execute_result",
          "data": {
            "text/plain": [
              "RandomForestClassifier(bootstrap=True, ccp_alpha=0.0, class_weight=None,\n",
              "                       criterion='gini', max_depth=None, max_features='auto',\n",
              "                       max_leaf_nodes=None, max_samples=None,\n",
              "                       min_impurity_decrease=0.0, min_impurity_split=None,\n",
              "                       min_samples_leaf=1, min_samples_split=2,\n",
              "                       min_weight_fraction_leaf=0.0, n_estimators=10, n_jobs=2,\n",
              "                       oob_score=False, random_state=None, verbose=0,\n",
              "                       warm_start=False)"
            ]
          },
          "metadata": {},
          "execution_count": 26
        }
      ],
      "metadata": {
        "colab": {
          "base_uri": "https://localhost:8080/"
        },
        "id": "uw1m5wUelNr8",
        "outputId": "b872af73-90ed-4690-c20d-7f5d1160dc7a"
      }
    },
    {
      "cell_type": "code",
      "execution_count": null,
      "source": [
        "# selected features\r\n",
        "clf_rfeDoS=RandomForestClassifier(n_estimators=10,n_jobs=2)\r\n",
        "clf_rfeProbe=RandomForestClassifier(n_estimators=10,n_jobs=2)\r\n",
        "clf_rfeR2L=RandomForestClassifier(n_estimators=10,n_jobs=2)\r\n",
        "clf_rfeU2R=RandomForestClassifier(n_estimators=10,n_jobs=2)\r\n",
        "clf_rfeDoS.fit(X_rfeDoS, Y_DoS.astype(int))\r\n",
        "clf_rfeProbe.fit(X_rfeProbe, Y_Probe.astype(int))\r\n",
        "clf_rfeR2L.fit(X_rfeR2L, Y_R2L.astype(int))\r\n",
        "clf_rfeU2R.fit(X_rfeU2R, Y_U2R.astype(int))"
      ],
      "outputs": [
        {
          "output_type": "execute_result",
          "data": {
            "text/plain": [
              "RandomForestClassifier(bootstrap=True, ccp_alpha=0.0, class_weight=None,\n",
              "                       criterion='gini', max_depth=None, max_features='auto',\n",
              "                       max_leaf_nodes=None, max_samples=None,\n",
              "                       min_impurity_decrease=0.0, min_impurity_split=None,\n",
              "                       min_samples_leaf=1, min_samples_split=2,\n",
              "                       min_weight_fraction_leaf=0.0, n_estimators=10, n_jobs=2,\n",
              "                       oob_score=False, random_state=None, verbose=0,\n",
              "                       warm_start=False)"
            ]
          },
          "metadata": {},
          "execution_count": 27
        }
      ],
      "metadata": {
        "colab": {
          "base_uri": "https://localhost:8080/"
        },
        "id": "hBAfHdBdlnlW",
        "outputId": "304b32a3-ed5d-4138-b6ad-0c2d40695a6f"
      }
    },
    {
      "cell_type": "markdown",
      "source": [
        "**Step 5: Prediction & Evaluation (validation):**\n",
        "\n",
        "\n",
        "---\n",
        "\n",
        "\n",
        "\n",
        "Using all Features for each category\n",
        "\n",
        "Confusion Matrices\n",
        "\n",
        "\n",
        "---\n",
        "\n",
        "\n",
        "\n",
        "DoS¶"
      ],
      "metadata": {
        "id": "1dnH9hPel4Pl"
      }
    },
    {
      "cell_type": "code",
      "execution_count": null,
      "source": [
        "# Apply the classifier we trained to the test data (which it has never seen before)\r\n",
        "clf_DoS.predict(X_DoS_test)\r\n"
      ],
      "outputs": [
        {
          "output_type": "execute_result",
          "data": {
            "text/plain": [
              "array([0, 0, 0, ..., 0, 0, 0])"
            ]
          },
          "metadata": {},
          "execution_count": 28
        }
      ],
      "metadata": {
        "colab": {
          "base_uri": "https://localhost:8080/"
        },
        "id": "hwR59uW4l_Iy",
        "outputId": "d82590a2-04de-449b-cca3-dc27e01b7995"
      }
    },
    {
      "cell_type": "code",
      "execution_count": null,
      "source": [
        "# View the predicted probabilities of the first 10 observations\r\n",
        "clf_DoS.predict_proba(X_DoS_test)[0:10]"
      ],
      "outputs": [
        {
          "output_type": "execute_result",
          "data": {
            "text/plain": [
              "array([[0.6, 0.4],\n",
              "       [0.6, 0.4],\n",
              "       [0.9, 0.1],\n",
              "       [1. , 0. ],\n",
              "       [0.9, 0.1],\n",
              "       [1. , 0. ],\n",
              "       [0.8, 0.2],\n",
              "       [0.6, 0.4],\n",
              "       [0.6, 0.4],\n",
              "       [0.9, 0.1]])"
            ]
          },
          "metadata": {},
          "execution_count": 29
        }
      ],
      "metadata": {
        "colab": {
          "base_uri": "https://localhost:8080/"
        },
        "id": "3ilISJ2rmGWW",
        "outputId": "b7d6f3c3-cd26-4437-f32a-f47380a67892"
      }
    },
    {
      "cell_type": "code",
      "execution_count": null,
      "source": [
        "Y_DoS_pred=clf_DoS.predict(X_DoS_test)\r\n",
        "\r\n",
        "# Create confusion matrix\r\n",
        "pd.crosstab(Y_DoS_test, Y_DoS_pred, rownames=['Actual attacks'], colnames=['Predicted attacks'])"
      ],
      "outputs": [
        {
          "output_type": "execute_result",
          "data": {
            "text/html": [
              "<div>\n",
              "<style scoped>\n",
              "    .dataframe tbody tr th:only-of-type {\n",
              "        vertical-align: middle;\n",
              "    }\n",
              "\n",
              "    .dataframe tbody tr th {\n",
              "        vertical-align: top;\n",
              "    }\n",
              "\n",
              "    .dataframe thead th {\n",
              "        text-align: right;\n",
              "    }\n",
              "</style>\n",
              "<table border=\"1\" class=\"dataframe\">\n",
              "  <thead>\n",
              "    <tr style=\"text-align: right;\">\n",
              "      <th>Predicted attacks</th>\n",
              "      <th>0</th>\n",
              "      <th>1</th>\n",
              "    </tr>\n",
              "    <tr>\n",
              "      <th>Actual attacks</th>\n",
              "      <th></th>\n",
              "      <th></th>\n",
              "    </tr>\n",
              "  </thead>\n",
              "  <tbody>\n",
              "    <tr>\n",
              "      <th>0</th>\n",
              "      <td>9682</td>\n",
              "      <td>29</td>\n",
              "    </tr>\n",
              "    <tr>\n",
              "      <th>1</th>\n",
              "      <td>5926</td>\n",
              "      <td>1534</td>\n",
              "    </tr>\n",
              "  </tbody>\n",
              "</table>\n",
              "</div>"
            ],
            "text/plain": [
              "Predicted attacks     0     1\n",
              "Actual attacks               \n",
              "0                  9682    29\n",
              "1                  5926  1534"
            ]
          },
          "metadata": {},
          "execution_count": 30
        }
      ],
      "metadata": {
        "colab": {
          "base_uri": "https://localhost:8080/",
          "height": 143
        },
        "id": "5BEe8Ar1mH83",
        "outputId": "eb397fdb-3fe7-46e9-c9bd-5a7915bf02d6"
      }
    },
    {
      "cell_type": "code",
      "execution_count": null,
      "source": [
        "from sklearn.metrics import accuracy_score\r\n",
        "acc = accuracy_score(Y_DoS_pred,Y_DoS_test)\r\n",
        "acc"
      ],
      "outputs": [
        {
          "output_type": "error",
          "ename": "NameError",
          "evalue": "ignored",
          "traceback": [
            "\u001b[0;31m---------------------------------------------------------------------------\u001b[0m",
            "\u001b[0;31mNameError\u001b[0m                                 Traceback (most recent call last)",
            "\u001b[0;32m<ipython-input-2-544631d55b5c>\u001b[0m in \u001b[0;36m<module>\u001b[0;34m()\u001b[0m\n\u001b[1;32m      1\u001b[0m \u001b[0;32mfrom\u001b[0m \u001b[0msklearn\u001b[0m\u001b[0;34m.\u001b[0m\u001b[0mmetrics\u001b[0m \u001b[0;32mimport\u001b[0m \u001b[0maccuracy_score\u001b[0m\u001b[0;34m\u001b[0m\u001b[0;34m\u001b[0m\u001b[0m\n\u001b[0;32m----> 2\u001b[0;31m \u001b[0macc\u001b[0m \u001b[0;34m=\u001b[0m \u001b[0maccuracy_score\u001b[0m\u001b[0;34m(\u001b[0m\u001b[0mY_DoS_pred\u001b[0m\u001b[0;34m,\u001b[0m\u001b[0mY_DoS_test\u001b[0m\u001b[0;34m)\u001b[0m\u001b[0;34m\u001b[0m\u001b[0;34m\u001b[0m\u001b[0m\n\u001b[0m\u001b[1;32m      3\u001b[0m \u001b[0macc\u001b[0m\u001b[0;34m\u001b[0m\u001b[0;34m\u001b[0m\u001b[0m\n",
            "\u001b[0;31mNameError\u001b[0m: name 'Y_DoS_pred' is not defined"
          ]
        }
      ],
      "metadata": {
        "colab": {
          "base_uri": "https://localhost:8080/",
          "height": 207
        },
        "id": "8J4A6T63yH_f",
        "outputId": "56d1e66f-7df7-4cbf-b573-69f05f62157a"
      }
    },
    {
      "cell_type": "markdown",
      "source": [
        "**Probe**"
      ],
      "metadata": {
        "id": "CHQRCzW9mPGx"
      }
    },
    {
      "cell_type": "code",
      "execution_count": null,
      "source": [
        "Y_Probe_pred=clf_Probe.predict(X_Probe_test)\r\n",
        "# Create confusion matrix\r\n",
        "\r\n",
        "pd.crosstab(Y_Probe_test, Y_Probe_pred, rownames=['Actual attacks'], colnames=['Predicted attacks'])"
      ],
      "outputs": [
        {
          "output_type": "execute_result",
          "data": {
            "text/html": [
              "<div>\n",
              "<style scoped>\n",
              "    .dataframe tbody tr th:only-of-type {\n",
              "        vertical-align: middle;\n",
              "    }\n",
              "\n",
              "    .dataframe tbody tr th {\n",
              "        vertical-align: top;\n",
              "    }\n",
              "\n",
              "    .dataframe thead th {\n",
              "        text-align: right;\n",
              "    }\n",
              "</style>\n",
              "<table border=\"1\" class=\"dataframe\">\n",
              "  <thead>\n",
              "    <tr style=\"text-align: right;\">\n",
              "      <th>Predicted attacks</th>\n",
              "      <th>0</th>\n",
              "      <th>2</th>\n",
              "    </tr>\n",
              "    <tr>\n",
              "      <th>Actual attacks</th>\n",
              "      <th></th>\n",
              "      <th></th>\n",
              "    </tr>\n",
              "  </thead>\n",
              "  <tbody>\n",
              "    <tr>\n",
              "      <th>0</th>\n",
              "      <td>8585</td>\n",
              "      <td>1126</td>\n",
              "    </tr>\n",
              "    <tr>\n",
              "      <th>2</th>\n",
              "      <td>1064</td>\n",
              "      <td>1357</td>\n",
              "    </tr>\n",
              "  </tbody>\n",
              "</table>\n",
              "</div>"
            ],
            "text/plain": [
              "Predicted attacks     0     2\n",
              "Actual attacks               \n",
              "0                  8585  1126\n",
              "2                  1064  1357"
            ]
          },
          "metadata": {},
          "execution_count": 31
        }
      ],
      "metadata": {
        "colab": {
          "base_uri": "https://localhost:8080/",
          "height": 143
        },
        "id": "xUIiP1bZmdeR",
        "outputId": "19eb9fa3-45c8-4012-9920-17a8f0843137"
      }
    },
    {
      "cell_type": "markdown",
      "source": [
        "**R2L**"
      ],
      "metadata": {
        "id": "vm92mbNfmjF4"
      }
    },
    {
      "cell_type": "code",
      "execution_count": null,
      "source": [
        "Y_R2L_pred=clf_R2L.predict(X_R2L_test)\r\n",
        "# Create confusion matrix\r\n",
        "pd.crosstab(Y_R2L_test, Y_R2L_pred, rownames=['Actual attacks'], colnames=['Predicted attacks'])"
      ],
      "outputs": [
        {
          "output_type": "execute_result",
          "data": {
            "text/html": [
              "<div>\n",
              "<style scoped>\n",
              "    .dataframe tbody tr th:only-of-type {\n",
              "        vertical-align: middle;\n",
              "    }\n",
              "\n",
              "    .dataframe tbody tr th {\n",
              "        vertical-align: top;\n",
              "    }\n",
              "\n",
              "    .dataframe thead th {\n",
              "        text-align: right;\n",
              "    }\n",
              "</style>\n",
              "<table border=\"1\" class=\"dataframe\">\n",
              "  <thead>\n",
              "    <tr style=\"text-align: right;\">\n",
              "      <th>Predicted attacks</th>\n",
              "      <th>0</th>\n",
              "    </tr>\n",
              "    <tr>\n",
              "      <th>Actual attacks</th>\n",
              "      <th></th>\n",
              "    </tr>\n",
              "  </thead>\n",
              "  <tbody>\n",
              "    <tr>\n",
              "      <th>0</th>\n",
              "      <td>9711</td>\n",
              "    </tr>\n",
              "    <tr>\n",
              "      <th>3</th>\n",
              "      <td>2885</td>\n",
              "    </tr>\n",
              "  </tbody>\n",
              "</table>\n",
              "</div>"
            ],
            "text/plain": [
              "Predicted attacks     0\n",
              "Actual attacks         \n",
              "0                  9711\n",
              "3                  2885"
            ]
          },
          "metadata": {},
          "execution_count": 32
        }
      ],
      "metadata": {
        "colab": {
          "base_uri": "https://localhost:8080/",
          "height": 143
        },
        "id": "z7ro_ovNmkIz",
        "outputId": "c88411b6-7d8c-4479-f28f-4bec068b59fd"
      }
    },
    {
      "cell_type": "markdown",
      "source": [
        "**U2R**"
      ],
      "metadata": {
        "id": "2sXrTdVHmpjr"
      }
    },
    {
      "cell_type": "code",
      "execution_count": null,
      "source": [
        "Y_U2R_pred=clf_U2R.predict(X_U2R_test)\r\n",
        "# Create confusion matrix\r\n",
        "pd.crosstab(Y_U2R_test, Y_U2R_pred, rownames=['Actual attacks'], colnames=['Predicted attacks'])"
      ],
      "outputs": [
        {
          "output_type": "execute_result",
          "data": {
            "text/html": [
              "<div>\n",
              "<style scoped>\n",
              "    .dataframe tbody tr th:only-of-type {\n",
              "        vertical-align: middle;\n",
              "    }\n",
              "\n",
              "    .dataframe tbody tr th {\n",
              "        vertical-align: top;\n",
              "    }\n",
              "\n",
              "    .dataframe thead th {\n",
              "        text-align: right;\n",
              "    }\n",
              "</style>\n",
              "<table border=\"1\" class=\"dataframe\">\n",
              "  <thead>\n",
              "    <tr style=\"text-align: right;\">\n",
              "      <th>Predicted attacks</th>\n",
              "      <th>0</th>\n",
              "    </tr>\n",
              "    <tr>\n",
              "      <th>Actual attacks</th>\n",
              "      <th></th>\n",
              "    </tr>\n",
              "  </thead>\n",
              "  <tbody>\n",
              "    <tr>\n",
              "      <th>0</th>\n",
              "      <td>9711</td>\n",
              "    </tr>\n",
              "    <tr>\n",
              "      <th>4</th>\n",
              "      <td>67</td>\n",
              "    </tr>\n",
              "  </tbody>\n",
              "</table>\n",
              "</div>"
            ],
            "text/plain": [
              "Predicted attacks     0\n",
              "Actual attacks         \n",
              "0                  9711\n",
              "4                    67"
            ]
          },
          "metadata": {},
          "execution_count": 33
        }
      ],
      "metadata": {
        "colab": {
          "base_uri": "https://localhost:8080/",
          "height": 143
        },
        "id": "b8MtOKsemrAN",
        "outputId": "d4f343cf-aed4-498a-d371-b431b07840f3"
      }
    },
    {
      "cell_type": "markdown",
      "source": [
        "**Cross Validation: Accuracy, Precision, Recall, F-measure**"
      ],
      "metadata": {
        "id": "NLCyve_1muNe"
      }
    },
    {
      "cell_type": "markdown",
      "source": [
        "**DoS**"
      ],
      "metadata": {
        "id": "nEqJCtJUm2wz"
      }
    },
    {
      "cell_type": "code",
      "execution_count": null,
      "source": [
        "from sklearn.model_selection import cross_val_score\r\n",
        "from sklearn import metrics\r\n",
        "accuracy = cross_val_score(clf_DoS, X_DoS_test, Y_DoS_test, cv=10, scoring='accuracy')\r\n",
        "print(\"Accuracy: %0.5f (+/- %0.5f)\" % (accuracy.mean(), accuracy.std() * 2))\r\n",
        "precision = cross_val_score(clf_DoS, X_DoS_test, Y_DoS_test, cv=10, scoring='precision')\r\n",
        "print(\"Precision: %0.5f (+/- %0.5f)\" % (precision.mean(), precision.std() * 2))\r\n",
        "recall = cross_val_score(clf_DoS, X_DoS_test, Y_DoS_test, cv=10, scoring='recall')\r\n",
        "print(\"Recall: %0.5f (+/- %0.5f)\" % (recall.mean(), recall.std() * 2))\r\n",
        "f = cross_val_score(clf_DoS, X_DoS_test, Y_DoS_test, cv=10, scoring='f1')\r\n",
        "print(\"F-measure: %0.5f (+/- %0.5f)\" % (f.mean(), f.std() * 2))\r\n"
      ],
      "outputs": [
        {
          "output_type": "stream",
          "name": "stdout",
          "text": [
            "Accuracy: 0.99819 (+/- 0.00142)\n",
            "Precision: 0.99893 (+/- 0.00201)\n",
            "Recall: 0.99651 (+/- 0.00436)\n",
            "F-measure: 0.99765 (+/- 0.00218)\n"
          ]
        }
      ],
      "metadata": {
        "colab": {
          "base_uri": "https://localhost:8080/"
        },
        "id": "smwc3tZUmvaf",
        "outputId": "bac9309b-b374-4df5-f092-a5d6d069438e"
      }
    },
    {
      "cell_type": "markdown",
      "source": [
        "**Probe**"
      ],
      "metadata": {
        "id": "isVUQMo6m5Gu"
      }
    },
    {
      "cell_type": "code",
      "execution_count": null,
      "source": [
        "accuracy = cross_val_score(clf_Probe, X_Probe_test, Y_Probe_test, cv=10, scoring='accuracy')\r\n",
        "print(\"Accuracy: %0.5f (+/- %0.5f)\" % (accuracy.mean(), accuracy.std() * 2))\r\n",
        "precision = cross_val_score(clf_Probe, X_Probe_test, Y_Probe_test, cv=10, scoring='precision_macro')\r\n",
        "print(\"Precision: %0.5f (+/- %0.5f)\" % (precision.mean(), precision.std() * 2))\r\n",
        "recall = cross_val_score(clf_Probe, X_Probe_test, Y_Probe_test, cv=10, scoring='recall_macro')\r\n",
        "print(\"Recall: %0.5f (+/- %0.5f)\" % (recall.mean(), recall.std() * 2))\r\n",
        "f = cross_val_score(clf_Probe, X_Probe_test, Y_Probe_test, cv=10, scoring='f1_macro')\r\n",
        "print(\"F-measure: %0.5f (+/- %0.5f)\" % (f.mean(), f.std() * 2))"
      ],
      "outputs": [
        {
          "output_type": "stream",
          "name": "stdout",
          "text": [
            "Accuracy: 0.99711 (+/- 0.00297)\n",
            "Precision: 0.99664 (+/- 0.00554)\n",
            "Recall: 0.99257 (+/- 0.00628)\n",
            "F-measure: 0.99456 (+/- 0.00475)\n"
          ]
        }
      ],
      "metadata": {
        "colab": {
          "base_uri": "https://localhost:8080/"
        },
        "id": "0UQ7ZKMZm6Ye",
        "outputId": "a65564e1-ae4a-453a-b74b-bad785f9656b"
      }
    },
    {
      "cell_type": "markdown",
      "source": [
        "**U2R**"
      ],
      "metadata": {
        "id": "oDtTPPlgnPky"
      }
    },
    {
      "cell_type": "code",
      "execution_count": null,
      "source": [
        "accuracy = cross_val_score(clf_U2R, X_U2R_test, Y_U2R_test, cv=10, scoring='accuracy')\r\n",
        "print(\"Accuracy: %0.5f (+/- %0.5f)\" % (accuracy.mean(), accuracy.std() * 2))\r\n",
        "precision = cross_val_score(clf_U2R, X_U2R_test, Y_U2R_test, cv=10, scoring='precision_macro')\r\n",
        "print(\"Precision: %0.5f (+/- %0.5f)\" % (precision.mean(), precision.std() * 2))\r\n",
        "recall = cross_val_score(clf_U2R, X_U2R_test, Y_U2R_test, cv=10, scoring='recall_macro')\r\n",
        "print(\"Recall: %0.5f (+/- %0.5f)\" % (recall.mean(), recall.std() * 2))\r\n",
        "f = cross_val_score(clf_U2R, X_U2R_test, Y_U2R_test, cv=10, scoring='f1_macro')\r\n",
        "print(\"F-measure: %0.5f (+/- %0.5f)\" % (f.mean(), f.std() * 2))\r\n"
      ],
      "outputs": [
        {
          "output_type": "stream",
          "name": "stdout",
          "text": [
            "Accuracy: 0.99755 (+/- 0.00245)\n",
            "Precision: 0.98231 (+/- 0.06642)\n",
            "Recall: 0.85093 (+/- 0.10896)\n",
            "F-measure: 0.90819 (+/- 0.09340)\n"
          ]
        }
      ],
      "metadata": {
        "colab": {
          "base_uri": "https://localhost:8080/"
        },
        "id": "TdxuBHTrnO7W",
        "outputId": "d16393e7-535d-4f9b-af6a-8e18899073e9"
      }
    },
    {
      "cell_type": "markdown",
      "source": [
        "**R2L**"
      ],
      "metadata": {
        "id": "rRdxQ64LwtBj"
      }
    },
    {
      "cell_type": "code",
      "execution_count": null,
      "source": [
        "accuracy = cross_val_score(clf_R2L, X_R2L_test, Y_R2L_test, cv=10, scoring='accuracy')\r\n",
        "print(\"Accuracy: %0.5f (+/- %0.5f)\" % (accuracy.mean(), accuracy.std() * 2))\r\n",
        "precision = cross_val_score(clf_R2L, X_R2L_test, Y_R2L_test, cv=10, scoring='precision_macro')\r\n",
        "print(\"Precision: %0.5f (+/- %0.5f)\" % (precision.mean(), precision.std() * 2))\r\n",
        "recall = cross_val_score(clf_R2L, X_R2L_test, Y_R2L_test, cv=10, scoring='recall_macro')\r\n",
        "print(\"Recall: %0.5f (+/- %0.5f)\" % (recall.mean(), recall.std() * 2))\r\n",
        "f = cross_val_score(clf_R2L, X_R2L_test, Y_R2L_test, cv=10, scoring='f1_macro')\r\n",
        "print(\"F-measure: %0.5f (+/- %0.5f)\" % (f.mean(), f.std() * 2))"
      ],
      "outputs": [
        {
          "output_type": "stream",
          "name": "stdout",
          "text": [
            "Accuracy: 0.97991 (+/- 0.00619)\n",
            "Precision: 0.97530 (+/- 0.00975)\n",
            "Recall: 0.97131 (+/- 0.01205)\n",
            "F-measure: 0.97163 (+/- 0.01090)\n"
          ]
        }
      ],
      "metadata": {
        "colab": {
          "base_uri": "https://localhost:8080/"
        },
        "id": "MrfDjRonwqSr",
        "outputId": "bde984db-dcd7-4d2b-8b46-8603d43fb433"
      }
    },
    {
      "cell_type": "markdown",
      "source": [
        "**Using 13 Features for each category**\n",
        "\n",
        "\n",
        "Confusion Matrices\n",
        "\n",
        "DoS"
      ],
      "metadata": {
        "id": "pNJ5P6K8nX61"
      }
    },
    {
      "cell_type": "code",
      "execution_count": null,
      "source": [
        "# reduce test dataset to 13 features, use only features described in rfecolname_DoS etc.\r\n",
        "X_DoS_test2=X_DoS_test[:,rfecolindex_DoS]\r\n",
        "X_Probe_test2=X_Probe_test[:,rfecolindex_Probe]\r\n",
        "X_R2L_test2=X_R2L_test[:,rfecolindex_R2L]\r\n",
        "X_U2R_test2=X_U2R_test[:,rfecolindex_U2R]\r\n",
        "X_U2R_test2.shape"
      ],
      "outputs": [
        {
          "output_type": "execute_result",
          "data": {
            "text/plain": [
              "(9778, 13)"
            ]
          },
          "metadata": {},
          "execution_count": 38
        }
      ],
      "metadata": {
        "colab": {
          "base_uri": "https://localhost:8080/"
        },
        "id": "PI--9Z3xnZPL",
        "outputId": "5933d57e-a3ad-4f84-bafa-3f04a8796c9b"
      }
    },
    {
      "cell_type": "code",
      "execution_count": null,
      "source": [
        "Y_DoS_pred2=clf_rfeDoS.predict(X_DoS_test2)\r\n",
        "# Create confusion matrix\r\n",
        "pd.crosstab(Y_DoS_test, Y_DoS_pred2, rownames=['Actual attacks'], colnames=['Predicted attacks'])"
      ],
      "outputs": [
        {
          "output_type": "execute_result",
          "data": {
            "text/html": [
              "<div>\n",
              "<style scoped>\n",
              "    .dataframe tbody tr th:only-of-type {\n",
              "        vertical-align: middle;\n",
              "    }\n",
              "\n",
              "    .dataframe tbody tr th {\n",
              "        vertical-align: top;\n",
              "    }\n",
              "\n",
              "    .dataframe thead th {\n",
              "        text-align: right;\n",
              "    }\n",
              "</style>\n",
              "<table border=\"1\" class=\"dataframe\">\n",
              "  <thead>\n",
              "    <tr style=\"text-align: right;\">\n",
              "      <th>Predicted attacks</th>\n",
              "      <th>0</th>\n",
              "      <th>1</th>\n",
              "    </tr>\n",
              "    <tr>\n",
              "      <th>Actual attacks</th>\n",
              "      <th></th>\n",
              "      <th></th>\n",
              "    </tr>\n",
              "  </thead>\n",
              "  <tbody>\n",
              "    <tr>\n",
              "      <th>0</th>\n",
              "      <td>9673</td>\n",
              "      <td>38</td>\n",
              "    </tr>\n",
              "    <tr>\n",
              "      <th>1</th>\n",
              "      <td>7426</td>\n",
              "      <td>34</td>\n",
              "    </tr>\n",
              "  </tbody>\n",
              "</table>\n",
              "</div>"
            ],
            "text/plain": [
              "Predicted attacks     0   1\n",
              "Actual attacks             \n",
              "0                  9673  38\n",
              "1                  7426  34"
            ]
          },
          "metadata": {},
          "execution_count": 39
        }
      ],
      "metadata": {
        "colab": {
          "base_uri": "https://localhost:8080/",
          "height": 143
        },
        "id": "dvfVjn1IpdkF",
        "outputId": "a136aa9f-5652-434a-bffd-94dee813f59b"
      }
    },
    {
      "cell_type": "markdown",
      "source": [
        "**Probe**"
      ],
      "metadata": {
        "id": "5pNtpNWFpjqc"
      }
    },
    {
      "cell_type": "code",
      "execution_count": null,
      "source": [
        "Y_Probe_pred2=clf_rfeProbe.predict(X_Probe_test2)\r\n",
        "# Create confusion matrix\r\n",
        "pd.crosstab(Y_Probe_test, Y_Probe_pred2, rownames=['Actual attacks'], colnames=['Predicted attacks'])\r\n"
      ],
      "outputs": [
        {
          "output_type": "execute_result",
          "data": {
            "text/html": [
              "<div>\n",
              "<style scoped>\n",
              "    .dataframe tbody tr th:only-of-type {\n",
              "        vertical-align: middle;\n",
              "    }\n",
              "\n",
              "    .dataframe tbody tr th {\n",
              "        vertical-align: top;\n",
              "    }\n",
              "\n",
              "    .dataframe thead th {\n",
              "        text-align: right;\n",
              "    }\n",
              "</style>\n",
              "<table border=\"1\" class=\"dataframe\">\n",
              "  <thead>\n",
              "    <tr style=\"text-align: right;\">\n",
              "      <th>Predicted attacks</th>\n",
              "      <th>0</th>\n",
              "      <th>2</th>\n",
              "    </tr>\n",
              "    <tr>\n",
              "      <th>Actual attacks</th>\n",
              "      <th></th>\n",
              "      <th></th>\n",
              "    </tr>\n",
              "  </thead>\n",
              "  <tbody>\n",
              "    <tr>\n",
              "      <th>0</th>\n",
              "      <td>9118</td>\n",
              "      <td>593</td>\n",
              "    </tr>\n",
              "    <tr>\n",
              "      <th>2</th>\n",
              "      <td>1141</td>\n",
              "      <td>1280</td>\n",
              "    </tr>\n",
              "  </tbody>\n",
              "</table>\n",
              "</div>"
            ],
            "text/plain": [
              "Predicted attacks     0     2\n",
              "Actual attacks               \n",
              "0                  9118   593\n",
              "2                  1141  1280"
            ]
          },
          "metadata": {},
          "execution_count": 40
        }
      ],
      "metadata": {
        "colab": {
          "base_uri": "https://localhost:8080/",
          "height": 143
        },
        "id": "bZk-GxAOpiDy",
        "outputId": "94b587cc-6ad5-4eca-8d06-a2eacf111e8c"
      }
    },
    {
      "cell_type": "markdown",
      "source": [
        "**R2L**"
      ],
      "metadata": {
        "id": "dhP4467dpoon"
      }
    },
    {
      "cell_type": "code",
      "execution_count": null,
      "source": [
        "Y_R2L_pred2=clf_rfeR2L.predict(X_R2L_test2)\r\n",
        "# Create confusion matrix\r\n",
        "pd.crosstab(Y_R2L_test, Y_R2L_pred2, rownames=['Actual attacks'], colnames=['Predicted attacks'])\r\n"
      ],
      "outputs": [
        {
          "output_type": "execute_result",
          "data": {
            "text/html": [
              "<div>\n",
              "<style scoped>\n",
              "    .dataframe tbody tr th:only-of-type {\n",
              "        vertical-align: middle;\n",
              "    }\n",
              "\n",
              "    .dataframe tbody tr th {\n",
              "        vertical-align: top;\n",
              "    }\n",
              "\n",
              "    .dataframe thead th {\n",
              "        text-align: right;\n",
              "    }\n",
              "</style>\n",
              "<table border=\"1\" class=\"dataframe\">\n",
              "  <thead>\n",
              "    <tr style=\"text-align: right;\">\n",
              "      <th>Predicted attacks</th>\n",
              "      <th>0</th>\n",
              "    </tr>\n",
              "    <tr>\n",
              "      <th>Actual attacks</th>\n",
              "      <th></th>\n",
              "    </tr>\n",
              "  </thead>\n",
              "  <tbody>\n",
              "    <tr>\n",
              "      <th>0</th>\n",
              "      <td>9711</td>\n",
              "    </tr>\n",
              "    <tr>\n",
              "      <th>3</th>\n",
              "      <td>2885</td>\n",
              "    </tr>\n",
              "  </tbody>\n",
              "</table>\n",
              "</div>"
            ],
            "text/plain": [
              "Predicted attacks     0\n",
              "Actual attacks         \n",
              "0                  9711\n",
              "3                  2885"
            ]
          },
          "metadata": {},
          "execution_count": 41
        }
      ],
      "metadata": {
        "colab": {
          "base_uri": "https://localhost:8080/",
          "height": 143
        },
        "id": "itCdtf4Opykb",
        "outputId": "845a5417-65eb-473c-d333-53b9a06f816e"
      }
    },
    {
      "cell_type": "markdown",
      "source": [
        "**U2R**"
      ],
      "metadata": {
        "id": "_CuyYSWMp3wP"
      }
    },
    {
      "cell_type": "code",
      "execution_count": null,
      "source": [
        "Y_U2R_pred2=clf_rfeU2R.predict(X_U2R_test2)\r\n",
        "# Create confusion matrix\r\n",
        "pd.crosstab(Y_U2R_test, Y_U2R_pred2, rownames=['Actual attacks'], colnames=['Predicted attacks'])"
      ],
      "outputs": [
        {
          "output_type": "execute_result",
          "data": {
            "text/html": [
              "<div>\n",
              "<style scoped>\n",
              "    .dataframe tbody tr th:only-of-type {\n",
              "        vertical-align: middle;\n",
              "    }\n",
              "\n",
              "    .dataframe tbody tr th {\n",
              "        vertical-align: top;\n",
              "    }\n",
              "\n",
              "    .dataframe thead th {\n",
              "        text-align: right;\n",
              "    }\n",
              "</style>\n",
              "<table border=\"1\" class=\"dataframe\">\n",
              "  <thead>\n",
              "    <tr style=\"text-align: right;\">\n",
              "      <th>Predicted attacks</th>\n",
              "      <th>0</th>\n",
              "      <th>4</th>\n",
              "    </tr>\n",
              "    <tr>\n",
              "      <th>Actual attacks</th>\n",
              "      <th></th>\n",
              "      <th></th>\n",
              "    </tr>\n",
              "  </thead>\n",
              "  <tbody>\n",
              "    <tr>\n",
              "      <th>0</th>\n",
              "      <td>9710</td>\n",
              "      <td>1</td>\n",
              "    </tr>\n",
              "    <tr>\n",
              "      <th>4</th>\n",
              "      <td>66</td>\n",
              "      <td>1</td>\n",
              "    </tr>\n",
              "  </tbody>\n",
              "</table>\n",
              "</div>"
            ],
            "text/plain": [
              "Predicted attacks     0  4\n",
              "Actual attacks            \n",
              "0                  9710  1\n",
              "4                    66  1"
            ]
          },
          "metadata": {},
          "execution_count": 42
        }
      ],
      "metadata": {
        "colab": {
          "base_uri": "https://localhost:8080/",
          "height": 143
        },
        "id": "LB5Sve1Xp5Qz",
        "outputId": "53163540-d2d6-4bf0-f934-46de3ec3450a"
      }
    },
    {
      "cell_type": "markdown",
      "source": [
        "**Cross Validation: Accuracy, Precision, Recall, F-measure**\n",
        "\n",
        "**DoS**\n"
      ],
      "metadata": {
        "id": "7-Nz367hp8oG"
      }
    },
    {
      "cell_type": "code",
      "execution_count": null,
      "source": [
        "accuracy = cross_val_score(clf_rfeDoS, X_DoS_test2, Y_DoS_test, cv=10, scoring='accuracy')\r\n",
        "print(\"Accuracy: %0.5f (+/- %0.5f)\" % (accuracy.mean(), accuracy.std() * 2))\r\n",
        "precision = cross_val_score(clf_rfeDoS, X_DoS_test2, Y_DoS_test, cv=10, scoring='precision')\r\n",
        "print(\"Precision: %0.5f (+/- %0.5f)\" % (precision.mean(), precision.std() * 2))\r\n",
        "recall = cross_val_score(clf_rfeDoS, X_DoS_test2, Y_DoS_test, cv=10, scoring='recall')\r\n",
        "print(\"Recall: %0.5f (+/- %0.5f)\" % (recall.mean(), recall.std() * 2))\r\n",
        "f = cross_val_score(clf_rfeDoS, X_DoS_test2, Y_DoS_test, cv=10, scoring='f1')\r\n",
        "print(\"F-measure: %0.5f (+/- %0.5f)\" % (f.mean(), f.std() * 2))"
      ],
      "outputs": [
        {
          "output_type": "stream",
          "name": "stdout",
          "text": [
            "Accuracy: 0.99767 (+/- 0.00255)\n",
            "Precision: 0.99852 (+/- 0.00280)\n",
            "Recall: 0.99598 (+/- 0.00464)\n",
            "F-measure: 0.99711 (+/- 0.00425)\n"
          ]
        }
      ],
      "metadata": {
        "colab": {
          "base_uri": "https://localhost:8080/"
        },
        "id": "eOq4IH2CqHxi",
        "outputId": "b43ef904-698d-451c-a52b-0e425f0968a2"
      }
    },
    {
      "cell_type": "markdown",
      "source": [
        "**Probe**"
      ],
      "metadata": {
        "id": "6gkA-xV5qOJp"
      }
    },
    {
      "cell_type": "code",
      "execution_count": null,
      "source": [
        "accuracy = cross_val_score(clf_rfeProbe, X_Probe_test2, Y_Probe_test, cv=10, scoring='accuracy')\r\n",
        "print(\"Accuracy: %0.5f (+/- %0.5f)\" % (accuracy.mean(), accuracy.std() * 2))\r\n",
        "precision = cross_val_score(clf_rfeProbe, X_Probe_test2, Y_Probe_test, cv=10, scoring='precision_macro')\r\n",
        "print(\"Precision: %0.5f (+/- %0.5f)\" % (precision.mean(), precision.std() * 2))\r\n",
        "recall = cross_val_score(clf_rfeProbe, X_Probe_test2, Y_Probe_test, cv=10, scoring='recall_macro')\r\n",
        "print(\"Recall: %0.5f (+/- %0.5f)\" % (recall.mean(), recall.std() * 2))\r\n",
        "f = cross_val_score(clf_rfeProbe, X_Probe_test2, Y_Probe_test, cv=10, scoring='f1_macro')\r\n",
        "print(\"F-measure: %0.5f (+/- %0.5f)\" % (f.mean(), f.std() * 2))\r\n"
      ],
      "outputs": [
        {
          "output_type": "stream",
          "name": "stdout",
          "text": [
            "Accuracy: 0.99275 (+/- 0.00598)\n",
            "Precision: 0.99131 (+/- 0.00480)\n",
            "Recall: 0.98808 (+/- 0.00957)\n",
            "F-measure: 0.98898 (+/- 0.00758)\n"
          ]
        }
      ],
      "metadata": {
        "colab": {
          "base_uri": "https://localhost:8080/"
        },
        "id": "ynF31fBiqPZV",
        "outputId": "8033967a-052d-46e6-f12d-d188b1fd9630"
      }
    },
    {
      "cell_type": "markdown",
      "source": [
        "**R2L**"
      ],
      "metadata": {
        "id": "BWyw08Z8qVi5"
      }
    },
    {
      "cell_type": "code",
      "execution_count": null,
      "source": [
        "accuracy = cross_val_score(clf_rfeR2L, X_R2L_test2, Y_R2L_test, cv=10, scoring='accuracy')\r\n",
        "print(\"Accuracy: %0.5f (+/- %0.5f)\" % (accuracy.mean(), accuracy.std() * 2))\r\n",
        "precision = cross_val_score(clf_rfeR2L, X_R2L_test2, Y_R2L_test, cv=10, scoring='precision_macro')\r\n",
        "print(\"Precision: %0.5f (+/- %0.5f)\" % (precision.mean(), precision.std() * 2))\r\n",
        "recall = cross_val_score(clf_rfeR2L, X_R2L_test2, Y_R2L_test, cv=10, scoring='recall_macro')\r\n",
        "print(\"Recall: %0.5f (+/- %0.5f)\" % (recall.mean(), recall.std() * 2))\r\n",
        "f = cross_val_score(clf_rfeR2L, X_R2L_test2, Y_R2L_test, cv=10, scoring='f1_macro')\r\n",
        "print(\"F-measure: %0.5f (+/- %0.5f)\" % (f.mean(), f.std() * 2))"
      ],
      "outputs": [
        {
          "output_type": "stream",
          "name": "stdout",
          "text": [
            "Accuracy: 0.97571 (+/- 0.00703)\n",
            "Precision: 0.96793 (+/- 0.01050)\n",
            "Recall: 0.96046 (+/- 0.01133)\n",
            "F-measure: 0.96407 (+/- 0.01064)\n"
          ]
        }
      ],
      "metadata": {
        "colab": {
          "base_uri": "https://localhost:8080/"
        },
        "id": "eng_RcAVqVHx",
        "outputId": "85b8c921-d02f-4835-fb83-120392173e0b"
      }
    },
    {
      "cell_type": "markdown",
      "source": [
        "**U2R**"
      ],
      "metadata": {
        "id": "omjGOf-9qdBY"
      }
    },
    {
      "cell_type": "code",
      "execution_count": null,
      "source": [
        "accuracy = cross_val_score(clf_rfeU2R, X_U2R_test2, Y_U2R_test, cv=10, scoring='accuracy')\r\n",
        "print(\"Accuracy: %0.5f (+/- %0.5f)\" % (accuracy.mean(), accuracy.std() * 2))\r\n",
        "precision = cross_val_score(clf_rfeU2R, X_U2R_test2, Y_U2R_test, cv=10, scoring='precision_macro')\r\n",
        "print(\"Precision: %0.5f (+/- %0.5f)\" % (precision.mean(), precision.std() * 2))\r\n",
        "recall = cross_val_score(clf_rfeU2R, X_U2R_test2, Y_U2R_test, cv=10, scoring='recall_macro')\r\n",
        "print(\"Recall: %0.5f (+/- %0.5f)\" % (recall.mean(), recall.std() * 2))\r\n",
        "f = cross_val_score(clf_rfeU2R, X_U2R_test2, Y_U2R_test, cv=10, scoring='f1_macro')\r\n",
        "print(\"F-measure: %0.5f (+/- %0.5f)\" % (f.mean(), f.std() * 2))"
      ],
      "outputs": [
        {
          "output_type": "stream",
          "name": "stdout",
          "text": [
            "Accuracy: 0.99703 (+/- 0.00296)\n",
            "Precision: 0.96902 (+/- 0.09391)\n",
            "Recall: 0.81532 (+/- 0.17470)\n",
            "F-measure: 0.85829 (+/- 0.12073)\n"
          ]
        }
      ],
      "metadata": {
        "colab": {
          "base_uri": "https://localhost:8080/"
        },
        "id": "zhkYhoP1qfAt",
        "outputId": "0aa67983-13df-4618-ad62-9986744c4077"
      }
    },
    {
      "cell_type": "markdown",
      "source": [
        "# KNeighbors\n"
      ],
      "metadata": {
        "id": "LMZrPfW_vStU"
      }
    },
    {
      "cell_type": "code",
      "execution_count": null,
      "source": [
        "from sklearn.neighbors import KNeighborsClassifier\n",
        "\n",
        "clf_KNN_DoS=KNeighborsClassifier()\n",
        "clf_KNN_Probe=KNeighborsClassifier()\n",
        "clf_KNN_R2L=KNeighborsClassifier()\n",
        "clf_KNN_U2R=KNeighborsClassifier()\n",
        "\n",
        "clf_KNN_DoS.fit(X_DoS, Y_DoS.astype(int))\n",
        "clf_KNN_Probe.fit(X_Probe, Y_Probe.astype(int))\n",
        "clf_KNN_R2L.fit(X_R2L, Y_R2L.astype(int))\n",
        "clf_KNN_U2R.fit(X_U2R, Y_U2R.astype(int))\n"
      ],
      "outputs": [
        {
          "output_type": "execute_result",
          "data": {
            "text/plain": [
              "KNeighborsClassifier(algorithm='auto', leaf_size=30, metric='minkowski',\n",
              "                     metric_params=None, n_jobs=None, n_neighbors=5, p=2,\n",
              "                     weights='uniform')"
            ]
          },
          "metadata": {},
          "execution_count": 47
        }
      ],
      "metadata": {
        "colab": {
          "base_uri": "https://localhost:8080/"
        },
        "id": "SxPf0tnRvU66",
        "outputId": "2fde316c-0a4d-4cce-aefd-61a7ed18a11f"
      }
    },
    {
      "cell_type": "markdown",
      "source": [
        " **DoS**"
      ],
      "metadata": {
        "id": "OfLBLvwl6W0N"
      }
    },
    {
      "cell_type": "code",
      "execution_count": null,
      "source": [
        "Y_DoS_pred=clf_KNN_DoS.predict(X_DoS_test)\n",
        "\n",
        "# Create confusion matrix\n",
        "pd.crosstab(Y_DoS_test, Y_DoS_pred, rownames=['Actual attacks'], colnames=['Predicted attacks'])"
      ],
      "outputs": [
        {
          "output_type": "execute_result",
          "data": {
            "text/html": [
              "<div>\n",
              "<style scoped>\n",
              "    .dataframe tbody tr th:only-of-type {\n",
              "        vertical-align: middle;\n",
              "    }\n",
              "\n",
              "    .dataframe tbody tr th {\n",
              "        vertical-align: top;\n",
              "    }\n",
              "\n",
              "    .dataframe thead th {\n",
              "        text-align: right;\n",
              "    }\n",
              "</style>\n",
              "<table border=\"1\" class=\"dataframe\">\n",
              "  <thead>\n",
              "    <tr style=\"text-align: right;\">\n",
              "      <th>Predicted attacks</th>\n",
              "      <th>0</th>\n",
              "      <th>1</th>\n",
              "    </tr>\n",
              "    <tr>\n",
              "      <th>Actual attacks</th>\n",
              "      <th></th>\n",
              "      <th></th>\n",
              "    </tr>\n",
              "  </thead>\n",
              "  <tbody>\n",
              "    <tr>\n",
              "      <th>0</th>\n",
              "      <td>9422</td>\n",
              "      <td>289</td>\n",
              "    </tr>\n",
              "    <tr>\n",
              "      <th>1</th>\n",
              "      <td>1573</td>\n",
              "      <td>5887</td>\n",
              "    </tr>\n",
              "  </tbody>\n",
              "</table>\n",
              "</div>"
            ],
            "text/plain": [
              "Predicted attacks     0     1\n",
              "Actual attacks               \n",
              "0                  9422   289\n",
              "1                  1573  5887"
            ]
          },
          "metadata": {},
          "execution_count": 48
        }
      ],
      "metadata": {
        "colab": {
          "base_uri": "https://localhost:8080/",
          "height": 143
        },
        "id": "l2HYm4k_5zAt",
        "outputId": "815a2fe9-cea1-4c1d-a1a0-552bcb683214"
      }
    },
    {
      "cell_type": "markdown",
      "source": [
        "**Probe**"
      ],
      "metadata": {
        "id": "AloJ7mLN6fOy"
      }
    },
    {
      "cell_type": "code",
      "execution_count": null,
      "source": [
        "Y_Probe_pred=clf_KNN_Probe.predict(X_Probe_test)\n",
        "# Create confusion matrix\n",
        "\n",
        "pd.crosstab(Y_Probe_test, Y_Probe_pred, rownames=['Actual attacks'], colnames=['Predicted attacks'])"
      ],
      "outputs": [
        {
          "output_type": "execute_result",
          "data": {
            "text/html": [
              "<div>\n",
              "<style scoped>\n",
              "    .dataframe tbody tr th:only-of-type {\n",
              "        vertical-align: middle;\n",
              "    }\n",
              "\n",
              "    .dataframe tbody tr th {\n",
              "        vertical-align: top;\n",
              "    }\n",
              "\n",
              "    .dataframe thead th {\n",
              "        text-align: right;\n",
              "    }\n",
              "</style>\n",
              "<table border=\"1\" class=\"dataframe\">\n",
              "  <thead>\n",
              "    <tr style=\"text-align: right;\">\n",
              "      <th>Predicted attacks</th>\n",
              "      <th>0</th>\n",
              "      <th>2</th>\n",
              "    </tr>\n",
              "    <tr>\n",
              "      <th>Actual attacks</th>\n",
              "      <th></th>\n",
              "      <th></th>\n",
              "    </tr>\n",
              "  </thead>\n",
              "  <tbody>\n",
              "    <tr>\n",
              "      <th>0</th>\n",
              "      <td>9437</td>\n",
              "      <td>274</td>\n",
              "    </tr>\n",
              "    <tr>\n",
              "      <th>2</th>\n",
              "      <td>1272</td>\n",
              "      <td>1149</td>\n",
              "    </tr>\n",
              "  </tbody>\n",
              "</table>\n",
              "</div>"
            ],
            "text/plain": [
              "Predicted attacks     0     2\n",
              "Actual attacks               \n",
              "0                  9437   274\n",
              "2                  1272  1149"
            ]
          },
          "metadata": {},
          "execution_count": 49
        }
      ],
      "metadata": {
        "colab": {
          "base_uri": "https://localhost:8080/",
          "height": 143
        },
        "id": "m08qtIuM6Hc-",
        "outputId": "fd383fbb-5103-48c6-bead-63fd557122e6"
      }
    },
    {
      "cell_type": "markdown",
      "source": [
        "**R2L**"
      ],
      "metadata": {
        "id": "pHs6iaNZ6iNI"
      }
    },
    {
      "cell_type": "code",
      "execution_count": null,
      "source": [
        "Y_R2L_pred=clf_KNN_R2L.predict(X_R2L_test)\n",
        "# Create confusion matrix\n",
        "pd.crosstab(Y_R2L_test, Y_R2L_pred, rownames=['Actual attacks'], colnames=['Predicted attacks'])"
      ],
      "outputs": [
        {
          "output_type": "execute_result",
          "data": {
            "text/html": [
              "<div>\n",
              "<style scoped>\n",
              "    .dataframe tbody tr th:only-of-type {\n",
              "        vertical-align: middle;\n",
              "    }\n",
              "\n",
              "    .dataframe tbody tr th {\n",
              "        vertical-align: top;\n",
              "    }\n",
              "\n",
              "    .dataframe thead th {\n",
              "        text-align: right;\n",
              "    }\n",
              "</style>\n",
              "<table border=\"1\" class=\"dataframe\">\n",
              "  <thead>\n",
              "    <tr style=\"text-align: right;\">\n",
              "      <th>Predicted attacks</th>\n",
              "      <th>0</th>\n",
              "      <th>3</th>\n",
              "    </tr>\n",
              "    <tr>\n",
              "      <th>Actual attacks</th>\n",
              "      <th></th>\n",
              "      <th></th>\n",
              "    </tr>\n",
              "  </thead>\n",
              "  <tbody>\n",
              "    <tr>\n",
              "      <th>0</th>\n",
              "      <td>9706</td>\n",
              "      <td>5</td>\n",
              "    </tr>\n",
              "    <tr>\n",
              "      <th>3</th>\n",
              "      <td>2883</td>\n",
              "      <td>2</td>\n",
              "    </tr>\n",
              "  </tbody>\n",
              "</table>\n",
              "</div>"
            ],
            "text/plain": [
              "Predicted attacks     0  3\n",
              "Actual attacks            \n",
              "0                  9706  5\n",
              "3                  2883  2"
            ]
          },
          "metadata": {},
          "execution_count": 50
        }
      ],
      "metadata": {
        "colab": {
          "base_uri": "https://localhost:8080/",
          "height": 143
        },
        "id": "EsV-50ki6Hm_",
        "outputId": "c1f14501-255b-459d-9375-ae8d27e2189c"
      }
    },
    {
      "cell_type": "markdown",
      "source": [
        "**U2R**"
      ],
      "metadata": {
        "id": "zPwGBEeH6mji"
      }
    },
    {
      "cell_type": "code",
      "execution_count": null,
      "source": [
        "Y_U2R_pred=clf_KNN_U2R.predict(X_U2R_test)\n",
        "# Create confusion matrix\n",
        "pd.crosstab(Y_U2R_test, Y_U2R_pred, rownames=['Actual attacks'], colnames=['Predicted attacks'])"
      ],
      "outputs": [
        {
          "output_type": "execute_result",
          "data": {
            "text/html": [
              "<div>\n",
              "<style scoped>\n",
              "    .dataframe tbody tr th:only-of-type {\n",
              "        vertical-align: middle;\n",
              "    }\n",
              "\n",
              "    .dataframe tbody tr th {\n",
              "        vertical-align: top;\n",
              "    }\n",
              "\n",
              "    .dataframe thead th {\n",
              "        text-align: right;\n",
              "    }\n",
              "</style>\n",
              "<table border=\"1\" class=\"dataframe\">\n",
              "  <thead>\n",
              "    <tr style=\"text-align: right;\">\n",
              "      <th>Predicted attacks</th>\n",
              "      <th>0</th>\n",
              "      <th>4</th>\n",
              "    </tr>\n",
              "    <tr>\n",
              "      <th>Actual attacks</th>\n",
              "      <th></th>\n",
              "      <th></th>\n",
              "    </tr>\n",
              "  </thead>\n",
              "  <tbody>\n",
              "    <tr>\n",
              "      <th>0</th>\n",
              "      <td>9711</td>\n",
              "      <td>0</td>\n",
              "    </tr>\n",
              "    <tr>\n",
              "      <th>4</th>\n",
              "      <td>65</td>\n",
              "      <td>2</td>\n",
              "    </tr>\n",
              "  </tbody>\n",
              "</table>\n",
              "</div>"
            ],
            "text/plain": [
              "Predicted attacks     0  4\n",
              "Actual attacks            \n",
              "0                  9711  0\n",
              "4                    65  2"
            ]
          },
          "metadata": {},
          "execution_count": 51
        }
      ],
      "metadata": {
        "colab": {
          "base_uri": "https://localhost:8080/",
          "height": 143
        },
        "id": "RgO_fAYu6HvD",
        "outputId": "550cfcab-877b-4d95-d24a-2007517c9893"
      }
    },
    {
      "cell_type": "markdown",
      "source": [
        "**Cross Validation: Accuracy, Precision, Recall, F-measure**"
      ],
      "metadata": {
        "id": "g9pZadi86vhE"
      }
    },
    {
      "cell_type": "markdown",
      "source": [
        "**DoS**"
      ],
      "metadata": {
        "id": "bQU5VuWl6p9L"
      }
    },
    {
      "cell_type": "code",
      "execution_count": null,
      "source": [
        "from sklearn.model_selection import cross_val_score\n",
        "from sklearn import metrics\n",
        "accuracy = cross_val_score(clf_KNN_DoS, X_DoS_test, Y_DoS_test, cv=10, scoring='accuracy')\n",
        "print(\"Accuracy: %0.5f (+/- %0.5f)\" % (accuracy.mean(), accuracy.std() * 2))\n",
        "precision = cross_val_score(clf_KNN_DoS, X_DoS_test, Y_DoS_test, cv=10, scoring='precision')\n",
        "print(\"Precision: %0.5f (+/- %0.5f)\" % (precision.mean(), precision.std() * 2))\n",
        "recall = cross_val_score(clf_KNN_DoS, X_DoS_test, Y_DoS_test, cv=10, scoring='recall')\n",
        "print(\"Recall: %0.5f (+/- %0.5f)\" % (recall.mean(), recall.std() * 2))\n",
        "f = cross_val_score(clf_KNN_DoS, X_DoS_test, Y_DoS_test, cv=10, scoring='f1')\n",
        "print(\"F-measure: %0.5f (+/- %0.5f)\" % (f.mean(), f.std() * 2))"
      ],
      "outputs": [
        {
          "output_type": "stream",
          "name": "stdout",
          "text": [
            "Accuracy: 0.99715 (+/- 0.00278)\n",
            "Precision: 0.99678 (+/- 0.00383)\n",
            "Recall: 0.99665 (+/- 0.00344)\n",
            "F-measure: 0.99672 (+/- 0.00320)\n"
          ]
        }
      ],
      "metadata": {
        "id": "SJ4QM5TV6H39",
        "colab": {
          "base_uri": "https://localhost:8080/"
        },
        "outputId": "5b174064-0bf5-47ed-d3cb-ec1df5951a12"
      }
    },
    {
      "cell_type": "markdown",
      "source": [
        "**Probe**"
      ],
      "metadata": {
        "id": "a7GfPZaI6zTy"
      }
    },
    {
      "cell_type": "code",
      "execution_count": null,
      "source": [
        "accuracy = cross_val_score(clf_KNN_Probe, X_Probe_test, Y_Probe_test, cv=10, scoring='accuracy')\n",
        "print(\"Accuracy: %0.5f (+/- %0.5f)\" % (accuracy.mean(), accuracy.std() * 2))\n",
        "precision = cross_val_score(clf_KNN_Probe, X_Probe_test, Y_Probe_test, cv=10, scoring='precision_macro')\n",
        "print(\"Precision: %0.5f (+/- %0.5f)\" % (precision.mean(), precision.std() * 2))\n",
        "recall = cross_val_score(clf_KNN_Probe, X_Probe_test, Y_Probe_test, cv=10, scoring='recall_macro')\n",
        "print(\"Recall: %0.5f (+/- %0.5f)\" % (recall.mean(), recall.std() * 2))\n",
        "f = cross_val_score(clf_KNN_Probe, X_Probe_test, Y_Probe_test, cv=10, scoring='f1_macro')\n",
        "print(\"F-measure: %0.5f (+/- %0.5f)\" % (f.mean(), f.std() * 2))"
      ],
      "outputs": [
        {
          "output_type": "stream",
          "name": "stdout",
          "text": [
            "Accuracy: 0.99077 (+/- 0.00403)\n",
            "Precision: 0.98606 (+/- 0.00675)\n",
            "Recall: 0.98508 (+/- 0.01137)\n",
            "F-measure: 0.98553 (+/- 0.00645)\n"
          ]
        }
      ],
      "metadata": {
        "id": "ftIa3IDi6zln",
        "colab": {
          "base_uri": "https://localhost:8080/"
        },
        "outputId": "e1acddd5-499d-42b5-d7f8-724ebd275289"
      }
    },
    {
      "cell_type": "markdown",
      "source": [
        "**R2L**"
      ],
      "metadata": {
        "id": "-W_1Iw2P6z2r"
      }
    },
    {
      "cell_type": "code",
      "execution_count": null,
      "source": [
        "accuracy = cross_val_score(clf_KNN_R2L, X_R2L_test, Y_R2L_test, cv=10, scoring='accuracy')\n",
        "print(\"Accuracy: %0.5f (+/- %0.5f)\" % (accuracy.mean(), accuracy.std() * 2))\n",
        "precision = cross_val_score(clf_KNN_R2L, X_R2L_test, Y_R2L_test, cv=10, scoring='precision_macro')\n",
        "print(\"Precision: %0.5f (+/- %0.5f)\" % (precision.mean(), precision.std() * 2))\n",
        "recall = cross_val_score(clf_KNN_R2L, X_R2L_test, Y_R2L_test, cv=10, scoring='recall_macro')\n",
        "print(\"Recall: %0.5f (+/- %0.5f)\" % (recall.mean(), recall.std() * 2))\n",
        "f = cross_val_score(clf_KNN_R2L, X_R2L_test, Y_R2L_test, cv=10, scoring='f1_macro')\n",
        "print(\"F-measure: %0.5f (+/- %0.5f)\" % (f.mean(), f.std() * 2))"
      ],
      "outputs": [
        {
          "output_type": "stream",
          "name": "stdout",
          "text": [
            "Accuracy: 0.96737 (+/- 0.00730)\n",
            "Precision: 0.95311 (+/- 0.01274)\n",
            "Recall: 0.95484 (+/- 0.01326)\n",
            "F-measure: 0.95389 (+/- 0.01030)\n"
          ]
        }
      ],
      "metadata": {
        "id": "8O_VI52o60Ih",
        "colab": {
          "base_uri": "https://localhost:8080/"
        },
        "outputId": "315dbd79-6a04-4db0-8fbe-2c32e37d2199"
      }
    },
    {
      "cell_type": "markdown",
      "source": [
        "**U2R**"
      ],
      "metadata": {
        "id": "qrkB_Fbn60Zm"
      }
    },
    {
      "cell_type": "code",
      "execution_count": null,
      "source": [
        "accuracy = cross_val_score(clf_KNN_U2R, X_U2R_test, Y_U2R_test, cv=10, scoring='accuracy')\n",
        "print(\"Accuracy: %0.5f (+/- %0.5f)\" % (accuracy.mean(), accuracy.std() * 2))\n",
        "precision = cross_val_score(clf_KNN_U2R, X_U2R_test, Y_U2R_test, cv=10, scoring='precision_macro')\n",
        "print(\"Precision: %0.5f (+/- %0.5f)\" % (precision.mean(), precision.std() * 2))\n",
        "recall = cross_val_score(clf_KNN_U2R, X_U2R_test, Y_U2R_test, cv=10, scoring='recall_macro')\n",
        "print(\"Recall: %0.5f (+/- %0.5f)\" % (recall.mean(), recall.std() * 2))\n",
        "f = cross_val_score(clf_KNN_U2R, X_U2R_test, Y_U2R_test, cv=10, scoring='f1_macro')\n",
        "print(\"F-measure: %0.5f (+/- %0.5f)\" % (f.mean(), f.std() * 2))\n"
      ],
      "outputs": [
        {
          "output_type": "stream",
          "name": "stdout",
          "text": [
            "Accuracy: 0.99703 (+/- 0.00281)\n",
            "Precision: 0.93143 (+/- 0.14679)\n",
            "Recall: 0.85073 (+/- 0.17639)\n",
            "F-measure: 0.87831 (+/- 0.11390)\n"
          ]
        }
      ],
      "metadata": {
        "id": "g4q8MlDu60jn",
        "colab": {
          "base_uri": "https://localhost:8080/"
        },
        "outputId": "bcc057ca-e2be-45c1-de8d-e3f7dc924cd7"
      }
    },
    {
      "cell_type": "markdown",
      "source": [
        "# SVM\n"
      ],
      "metadata": {
        "id": "bvLJSVKmBNDV"
      }
    },
    {
      "cell_type": "code",
      "execution_count": null,
      "source": [
        "from sklearn.svm import SVC\n",
        "\n",
        "clf_SVM_DoS=SVC(kernel='linear', C=1.0, random_state=0)\n",
        "clf_SVM_Probe=SVC(kernel='linear', C=1.0, random_state=0)\n",
        "clf_SVM_R2L=SVC(kernel='linear', C=1.0, random_state=0)\n",
        "clf_SVM_U2R=SVC(kernel='linear', C=1.0, random_state=0)\n",
        "\n",
        "clf_SVM_DoS.fit(X_DoS, Y_DoS.astype(int))\n",
        "clf_SVM_Probe.fit(X_Probe, Y_Probe.astype(int))\n",
        "clf_SVM_R2L.fit(X_R2L, Y_R2L.astype(int))\n",
        "clf_SVM_U2R.fit(X_U2R, Y_U2R.astype(int))"
      ],
      "outputs": [
        {
          "output_type": "execute_result",
          "data": {
            "text/plain": [
              "SVC(C=1.0, break_ties=False, cache_size=200, class_weight=None, coef0=0.0,\n",
              "    decision_function_shape='ovr', degree=3, gamma='scale', kernel='linear',\n",
              "    max_iter=-1, probability=False, random_state=0, shrinking=True, tol=0.001,\n",
              "    verbose=False)"
            ]
          },
          "metadata": {},
          "execution_count": 56
        }
      ],
      "metadata": {
        "id": "FywpAGEvBPLo",
        "colab": {
          "base_uri": "https://localhost:8080/"
        },
        "outputId": "765bee13-2ee5-48ab-9bb6-8714d7aa8f79"
      }
    },
    {
      "cell_type": "markdown",
      "source": [
        "**DoS**"
      ],
      "metadata": {
        "id": "71tRFjJGBiu8"
      }
    },
    {
      "cell_type": "code",
      "execution_count": null,
      "source": [
        "Y_DoS_pred=clf_SVM_DoS.predict(X_DoS_test)\n",
        "\n",
        "# Create confusion matrix\n",
        "pd.crosstab(Y_DoS_test, Y_DoS_pred, rownames=['Actual attacks'], colnames=['Predicted attacks'])"
      ],
      "outputs": [
        {
          "output_type": "execute_result",
          "data": {
            "text/html": [
              "<div>\n",
              "<style scoped>\n",
              "    .dataframe tbody tr th:only-of-type {\n",
              "        vertical-align: middle;\n",
              "    }\n",
              "\n",
              "    .dataframe tbody tr th {\n",
              "        vertical-align: top;\n",
              "    }\n",
              "\n",
              "    .dataframe thead th {\n",
              "        text-align: right;\n",
              "    }\n",
              "</style>\n",
              "<table border=\"1\" class=\"dataframe\">\n",
              "  <thead>\n",
              "    <tr style=\"text-align: right;\">\n",
              "      <th>Predicted attacks</th>\n",
              "      <th>0</th>\n",
              "      <th>1</th>\n",
              "    </tr>\n",
              "    <tr>\n",
              "      <th>Actual attacks</th>\n",
              "      <th></th>\n",
              "      <th></th>\n",
              "    </tr>\n",
              "  </thead>\n",
              "  <tbody>\n",
              "    <tr>\n",
              "      <th>0</th>\n",
              "      <td>9455</td>\n",
              "      <td>256</td>\n",
              "    </tr>\n",
              "    <tr>\n",
              "      <th>1</th>\n",
              "      <td>1359</td>\n",
              "      <td>6101</td>\n",
              "    </tr>\n",
              "  </tbody>\n",
              "</table>\n",
              "</div>"
            ],
            "text/plain": [
              "Predicted attacks     0     1\n",
              "Actual attacks               \n",
              "0                  9455   256\n",
              "1                  1359  6101"
            ]
          },
          "metadata": {},
          "execution_count": 57
        }
      ],
      "metadata": {
        "id": "kABBJljaBi6v",
        "colab": {
          "base_uri": "https://localhost:8080/",
          "height": 143
        },
        "outputId": "30b8138f-558d-4150-80e6-f6d8f6412c19"
      }
    },
    {
      "cell_type": "code",
      "execution_count": null,
      "source": [
        "Y_Probe_pred=clf_SVM_Probe.predict(X_Probe_test)\n",
        "# Create confusion matrix\n",
        "\n",
        "pd.crosstab(Y_Probe_test, Y_Probe_pred, rownames=['Actual attacks'], colnames=['Predicted attacks'])"
      ],
      "outputs": [
        {
          "output_type": "execute_result",
          "data": {
            "text/html": [
              "<div>\n",
              "<style scoped>\n",
              "    .dataframe tbody tr th:only-of-type {\n",
              "        vertical-align: middle;\n",
              "    }\n",
              "\n",
              "    .dataframe tbody tr th {\n",
              "        vertical-align: top;\n",
              "    }\n",
              "\n",
              "    .dataframe thead th {\n",
              "        text-align: right;\n",
              "    }\n",
              "</style>\n",
              "<table border=\"1\" class=\"dataframe\">\n",
              "  <thead>\n",
              "    <tr style=\"text-align: right;\">\n",
              "      <th>Predicted attacks</th>\n",
              "      <th>0</th>\n",
              "      <th>2</th>\n",
              "    </tr>\n",
              "    <tr>\n",
              "      <th>Actual attacks</th>\n",
              "      <th></th>\n",
              "      <th></th>\n",
              "    </tr>\n",
              "  </thead>\n",
              "  <tbody>\n",
              "    <tr>\n",
              "      <th>0</th>\n",
              "      <td>9576</td>\n",
              "      <td>135</td>\n",
              "    </tr>\n",
              "    <tr>\n",
              "      <th>2</th>\n",
              "      <td>1285</td>\n",
              "      <td>1136</td>\n",
              "    </tr>\n",
              "  </tbody>\n",
              "</table>\n",
              "</div>"
            ],
            "text/plain": [
              "Predicted attacks     0     2\n",
              "Actual attacks               \n",
              "0                  9576   135\n",
              "2                  1285  1136"
            ]
          },
          "metadata": {},
          "execution_count": 58
        }
      ],
      "metadata": {
        "id": "iuj91846Hd3D",
        "colab": {
          "base_uri": "https://localhost:8080/",
          "height": 143
        },
        "outputId": "78d539ff-feb8-4292-ffb9-eb69550f3da3"
      }
    },
    {
      "cell_type": "code",
      "execution_count": null,
      "source": [
        "Y_R2L_pred=clf_SVM_R2L.predict(X_R2L_test)\n",
        "# Create confusion matrix\n",
        "pd.crosstab(Y_R2L_test, Y_R2L_pred, rownames=['Actual attacks'], colnames=['Predicted attacks'])"
      ],
      "outputs": [
        {
          "output_type": "execute_result",
          "data": {
            "text/html": [
              "<div>\n",
              "<style scoped>\n",
              "    .dataframe tbody tr th:only-of-type {\n",
              "        vertical-align: middle;\n",
              "    }\n",
              "\n",
              "    .dataframe tbody tr th {\n",
              "        vertical-align: top;\n",
              "    }\n",
              "\n",
              "    .dataframe thead th {\n",
              "        text-align: right;\n",
              "    }\n",
              "</style>\n",
              "<table border=\"1\" class=\"dataframe\">\n",
              "  <thead>\n",
              "    <tr style=\"text-align: right;\">\n",
              "      <th>Predicted attacks</th>\n",
              "      <th>0</th>\n",
              "      <th>3</th>\n",
              "    </tr>\n",
              "    <tr>\n",
              "      <th>Actual attacks</th>\n",
              "      <th></th>\n",
              "      <th></th>\n",
              "    </tr>\n",
              "  </thead>\n",
              "  <tbody>\n",
              "    <tr>\n",
              "      <th>0</th>\n",
              "      <td>9639</td>\n",
              "      <td>72</td>\n",
              "    </tr>\n",
              "    <tr>\n",
              "      <th>3</th>\n",
              "      <td>2737</td>\n",
              "      <td>148</td>\n",
              "    </tr>\n",
              "  </tbody>\n",
              "</table>\n",
              "</div>"
            ],
            "text/plain": [
              "Predicted attacks     0    3\n",
              "Actual attacks              \n",
              "0                  9639   72\n",
              "3                  2737  148"
            ]
          },
          "metadata": {},
          "execution_count": 59
        }
      ],
      "metadata": {
        "id": "lAVZ2ZTvHgq1",
        "colab": {
          "base_uri": "https://localhost:8080/",
          "height": 143
        },
        "outputId": "584ee954-c27e-4e53-94f7-0b851a81531d"
      }
    },
    {
      "cell_type": "code",
      "execution_count": null,
      "source": [
        "Y_U2R_pred=clf_SVM_U2R.predict(X_U2R_test)\n",
        "# Create confusion matrix\n",
        "pd.crosstab(Y_U2R_test, Y_U2R_pred, rownames=['Actual attacks'], colnames=['Predicted attacks'])"
      ],
      "outputs": [
        {
          "output_type": "execute_result",
          "data": {
            "text/html": [
              "<div>\n",
              "<style scoped>\n",
              "    .dataframe tbody tr th:only-of-type {\n",
              "        vertical-align: middle;\n",
              "    }\n",
              "\n",
              "    .dataframe tbody tr th {\n",
              "        vertical-align: top;\n",
              "    }\n",
              "\n",
              "    .dataframe thead th {\n",
              "        text-align: right;\n",
              "    }\n",
              "</style>\n",
              "<table border=\"1\" class=\"dataframe\">\n",
              "  <thead>\n",
              "    <tr style=\"text-align: right;\">\n",
              "      <th>Predicted attacks</th>\n",
              "      <th>0</th>\n",
              "      <th>4</th>\n",
              "    </tr>\n",
              "    <tr>\n",
              "      <th>Actual attacks</th>\n",
              "      <th></th>\n",
              "      <th></th>\n",
              "    </tr>\n",
              "  </thead>\n",
              "  <tbody>\n",
              "    <tr>\n",
              "      <th>0</th>\n",
              "      <td>9710</td>\n",
              "      <td>1</td>\n",
              "    </tr>\n",
              "    <tr>\n",
              "      <th>4</th>\n",
              "      <td>67</td>\n",
              "      <td>0</td>\n",
              "    </tr>\n",
              "  </tbody>\n",
              "</table>\n",
              "</div>"
            ],
            "text/plain": [
              "Predicted attacks     0  4\n",
              "Actual attacks            \n",
              "0                  9710  1\n",
              "4                    67  0"
            ]
          },
          "metadata": {},
          "execution_count": 60
        }
      ],
      "metadata": {
        "id": "iJusMfB6Hj1m",
        "colab": {
          "base_uri": "https://localhost:8080/",
          "height": 143
        },
        "outputId": "fdbdbea8-26cb-433c-961c-a61d50e5fea1"
      }
    },
    {
      "cell_type": "markdown",
      "source": [
        "**DoS**"
      ],
      "metadata": {
        "id": "FHJNIbkSDdrJ"
      }
    },
    {
      "cell_type": "code",
      "execution_count": null,
      "source": [
        "from sklearn.model_selection import cross_val_score\n",
        "from sklearn import metrics\n",
        "accuracy = cross_val_score(clf_SVM_DoS, X_DoS_test, Y_DoS_test, cv=10, scoring='accuracy')\n",
        "print(\"Accuracy: %0.5f (+/- %0.5f)\" % (accuracy.mean(), accuracy.std() * 2))\n",
        "precision = cross_val_score(clf_SVM_DoS, X_DoS_test, Y_DoS_test, cv=10, scoring='precision')\n",
        "print(\"Precision: %0.5f (+/- %0.5f)\" % (precision.mean(), precision.std() * 2))\n",
        "recall = cross_val_score(clf_SVM_DoS, X_DoS_test, Y_DoS_test, cv=10, scoring='recall')\n",
        "print(\"Recall: %0.5f (+/- %0.5f)\" % (recall.mean(), recall.std() * 2))\n",
        "f = cross_val_score(clf_SVM_DoS, X_DoS_test, Y_DoS_test, cv=10, scoring='f1')\n",
        "print(\"F-measure: %0.5f (+/- %0.5f)\" % (f.mean(), f.std() * 2))"
      ],
      "outputs": [
        {
          "output_type": "stream",
          "name": "stdout",
          "text": [
            "Accuracy: 0.99371 (+/- 0.00375)\n",
            "Precision: 0.99107 (+/- 0.00785)\n",
            "Recall: 0.99450 (+/- 0.00388)\n",
            "F-measure: 0.99278 (+/- 0.00428)\n"
          ]
        }
      ],
      "metadata": {
        "id": "X4MfSJPbVs32",
        "colab": {
          "base_uri": "https://localhost:8080/"
        },
        "outputId": "253e660c-83c1-4b37-f857-43217a9df250"
      }
    },
    {
      "cell_type": "markdown",
      "source": [
        "**Probe**"
      ],
      "metadata": {
        "id": "IQqgT2jwDhn5"
      }
    },
    {
      "cell_type": "code",
      "execution_count": null,
      "source": [
        "accuracy = cross_val_score(clf_SVM_Probe, X_Probe_test, Y_Probe_test, cv=10, scoring='accuracy')\n",
        "print(\"Accuracy: %0.5f (+/- %0.5f)\" % (accuracy.mean(), accuracy.std() * 2))\n",
        "precision = cross_val_score(clf_SVM_Probe, X_Probe_test, Y_Probe_test, cv=10, scoring='precision_macro')\n",
        "print(\"Precision: %0.5f (+/- %0.5f)\" % (precision.mean(), precision.std() * 2))\n",
        "recall = cross_val_score(clf_SVM_Probe, X_Probe_test, Y_Probe_test, cv=10, scoring='recall_macro')\n",
        "print(\"Recall: %0.5f (+/- %0.5f)\" % (recall.mean(), recall.std() * 2))\n",
        "f = cross_val_score(clf_SVM_Probe, X_Probe_test, Y_Probe_test, cv=10, scoring='f1_macro')\n",
        "print(\"F-measure: %0.5f (+/- %0.5f)\" % (f.mean(), f.std() * 2))"
      ],
      "outputs": [
        {
          "output_type": "stream",
          "name": "stdout",
          "text": [
            "Accuracy: 0.98450 (+/- 0.00526)\n",
            "Precision: 0.96907 (+/- 0.01031)\n",
            "Recall: 0.98365 (+/- 0.00686)\n",
            "F-measure: 0.97613 (+/- 0.00800)\n"
          ]
        }
      ],
      "metadata": {
        "id": "9P36p-moVtBa",
        "colab": {
          "base_uri": "https://localhost:8080/"
        },
        "outputId": "5a00e67f-ef97-4467-96db-8570b52c2955"
      }
    },
    {
      "cell_type": "markdown",
      "source": [
        "**R2L**"
      ],
      "metadata": {
        "id": "EOEYHrRYDkaL"
      }
    },
    {
      "cell_type": "code",
      "execution_count": null,
      "source": [
        "accuracy = cross_val_score(clf_SVM_R2L, X_R2L_test, Y_R2L_test, cv=10, scoring='accuracy')\n",
        "print(\"Accuracy: %0.5f (+/- %0.5f)\" % (accuracy.mean(), accuracy.std() * 2))\n",
        "precision = cross_val_score(clf_SVM_R2L, X_R2L_test, Y_R2L_test, cv=10, scoring='precision_macro')\n",
        "print(\"Precision: %0.5f (+/- %0.5f)\" % (precision.mean(), precision.std() * 2))\n",
        "recall = cross_val_score(clf_SVM_R2L, X_R2L_test, Y_R2L_test, cv=10, scoring='recall_macro')\n",
        "print(\"Recall: %0.5f (+/- %0.5f)\" % (recall.mean(), recall.std() * 2))\n",
        "f = cross_val_score(clf_SVM_R2L, X_R2L_test, Y_R2L_test, cv=10, scoring='f1_macro')\n",
        "print(\"F-measure: %0.5f (+/- %0.5f)\" % (f.mean(), f.std() * 2))"
      ],
      "outputs": [
        {
          "output_type": "stream",
          "name": "stdout",
          "text": [
            "Accuracy: 0.96793 (+/- 0.00738)\n",
            "Precision: 0.94854 (+/- 0.00994)\n",
            "Recall: 0.96264 (+/- 0.01388)\n",
            "F-measure: 0.95529 (+/- 0.01048)\n"
          ]
        }
      ],
      "metadata": {
        "id": "1EUHxx_FVtI-",
        "colab": {
          "base_uri": "https://localhost:8080/"
        },
        "outputId": "7e187a2d-9942-40ef-98a6-5133a579eb0a"
      }
    },
    {
      "cell_type": "markdown",
      "source": [
        "**U2R**"
      ],
      "metadata": {
        "id": "ghjSj7ucDoGE"
      }
    },
    {
      "cell_type": "code",
      "execution_count": null,
      "source": [
        "accuracy = cross_val_score(clf_SVM_U2R, X_U2R_test, Y_U2R_test, cv=10, scoring='accuracy')\n",
        "print(\"Accuracy: %0.5f (+/- %0.5f)\" % (accuracy.mean(), accuracy.std() * 2))\n",
        "precision = cross_val_score(clf_SVM_U2R, X_U2R_test, Y_U2R_test, cv=10, scoring='precision_macro')\n",
        "print(\"Precision: %0.5f (+/- %0.5f)\" % (precision.mean(), precision.std() * 2))\n",
        "recall = cross_val_score(clf_SVM_U2R, X_U2R_test, Y_U2R_test, cv=10, scoring='recall_macro')\n",
        "print(\"Recall: %0.5f (+/- %0.5f)\" % (recall.mean(), recall.std() * 2))\n",
        "f = cross_val_score(clf_SVM_U2R, X_U2R_test, Y_U2R_test, cv=10, scoring='f1_macro')\n",
        "print(\"F-measure: %0.5f (+/- %0.5f)\" % (f.mean(), f.std() * 2))"
      ],
      "outputs": [
        {
          "output_type": "stream",
          "name": "stdout",
          "text": [
            "Accuracy: 0.99632 (+/- 0.00390)\n",
            "Precision: 0.91056 (+/- 0.17934)\n",
            "Recall: 0.82909 (+/- 0.21833)\n",
            "F-measure: 0.84869 (+/- 0.16029)\n"
          ]
        }
      ],
      "metadata": {
        "id": "Qcz_NY5mVtQo",
        "colab": {
          "base_uri": "https://localhost:8080/"
        },
        "outputId": "81c352f8-4cf6-48b1-cf5d-38849ffa17e3"
      }
    },
    {
      "cell_type": "markdown",
      "source": [
        "# Ensemble Learning"
      ],
      "metadata": {
        "id": "RpavTYvvA9Tm"
      }
    },
    {
      "cell_type": "code",
      "execution_count": null,
      "source": [
        "from sklearn.ensemble import VotingClassifier\n",
        "\n",
        "clf_voting_DoS = VotingClassifier(estimators=[('rf', clf_DoS), ('knn', clf_KNN_DoS), ('svm', clf_SVM_DoS)], voting='hard')\n",
        "clf_voting_Probe = VotingClassifier(estimators=[('rf', clf_Probe), ('knn', clf_KNN_Probe), ('svm', clf_SVM_Probe)], voting='hard')\n",
        "clf_voting_R2L = VotingClassifier(estimators=[('rf', clf_R2L), ('knn', clf_KNN_R2L), ('svm', clf_SVM_R2L)], voting='hard')\n",
        "clf_voting_U2R = VotingClassifier(estimators=[('rf', clf_U2R), ('knn', clf_KNN_U2R), ('svm', clf_SVM_U2R)], voting='hard')\n",
        "\n",
        "clf_voting_DoS.fit(X_DoS, Y_DoS.astype(int))\n",
        "clf_voting_Probe.fit(X_Probe, Y_Probe.astype(int))\n",
        "clf_voting_R2L.fit(X_R2L, Y_R2L.astype(int))\n",
        "clf_voting_U2R.fit(X_U2R, Y_U2R.astype(int))\n"
      ],
      "outputs": [
        {
          "output_type": "execute_result",
          "data": {
            "text/plain": [
              "VotingClassifier(estimators=[('rf',\n",
              "                              RandomForestClassifier(bootstrap=True,\n",
              "                                                     ccp_alpha=0.0,\n",
              "                                                     class_weight=None,\n",
              "                                                     criterion='gini',\n",
              "                                                     max_depth=None,\n",
              "                                                     max_features='auto',\n",
              "                                                     max_leaf_nodes=None,\n",
              "                                                     max_samples=None,\n",
              "                                                     min_impurity_decrease=0.0,\n",
              "                                                     min_impurity_split=None,\n",
              "                                                     min_samples_leaf=1,\n",
              "                                                     min_samples_split=2,\n",
              "                                                     min_weight_fraction_leaf=0.0,\n",
              "                                                     n_estimators=10, n_jobs=2,\n",
              "                                                     oob_score=Fal...\n",
              "                                                   metric_params=None,\n",
              "                                                   n_jobs=None, n_neighbors=5,\n",
              "                                                   p=2, weights='uniform')),\n",
              "                             ('svm',\n",
              "                              SVC(C=1.0, break_ties=False, cache_size=200,\n",
              "                                  class_weight=None, coef0=0.0,\n",
              "                                  decision_function_shape='ovr', degree=3,\n",
              "                                  gamma='scale', kernel='linear', max_iter=-1,\n",
              "                                  probability=False, random_state=0,\n",
              "                                  shrinking=True, tol=0.001, verbose=False))],\n",
              "                 flatten_transform=True, n_jobs=None, voting='hard',\n",
              "                 weights=None)"
            ]
          },
          "metadata": {},
          "execution_count": 65
        }
      ],
      "metadata": {
        "id": "IiEH9DP8BBRf",
        "colab": {
          "base_uri": "https://localhost:8080/"
        },
        "outputId": "5c90385a-1a38-4de8-929f-31a6e3c9309b"
      }
    },
    {
      "cell_type": "markdown",
      "source": [
        "**DoS**"
      ],
      "metadata": {
        "id": "HMhaEDXOCtpk"
      }
    },
    {
      "cell_type": "code",
      "execution_count": null,
      "source": [
        "Y_DoS_pred=clf_voting_DoS.predict(X_DoS_test)\n",
        "\n",
        "# Create confusion matrix\n",
        "pd.crosstab(Y_DoS_test, Y_DoS_pred, rownames=['Actual attacks'], colnames=['Predicted attacks'])"
      ],
      "outputs": [
        {
          "output_type": "execute_result",
          "data": {
            "text/html": [
              "<div>\n",
              "<style scoped>\n",
              "    .dataframe tbody tr th:only-of-type {\n",
              "        vertical-align: middle;\n",
              "    }\n",
              "\n",
              "    .dataframe tbody tr th {\n",
              "        vertical-align: top;\n",
              "    }\n",
              "\n",
              "    .dataframe thead th {\n",
              "        text-align: right;\n",
              "    }\n",
              "</style>\n",
              "<table border=\"1\" class=\"dataframe\">\n",
              "  <thead>\n",
              "    <tr style=\"text-align: right;\">\n",
              "      <th>Predicted attacks</th>\n",
              "      <th>0</th>\n",
              "      <th>1</th>\n",
              "    </tr>\n",
              "    <tr>\n",
              "      <th>Actual attacks</th>\n",
              "      <th></th>\n",
              "      <th></th>\n",
              "    </tr>\n",
              "  </thead>\n",
              "  <tbody>\n",
              "    <tr>\n",
              "      <th>0</th>\n",
              "      <td>9607</td>\n",
              "      <td>104</td>\n",
              "    </tr>\n",
              "    <tr>\n",
              "      <th>1</th>\n",
              "      <td>1774</td>\n",
              "      <td>5686</td>\n",
              "    </tr>\n",
              "  </tbody>\n",
              "</table>\n",
              "</div>"
            ],
            "text/plain": [
              "Predicted attacks     0     1\n",
              "Actual attacks               \n",
              "0                  9607   104\n",
              "1                  1774  5686"
            ]
          },
          "metadata": {},
          "execution_count": 66
        }
      ],
      "metadata": {
        "id": "PcnHXWiNCvL2",
        "colab": {
          "base_uri": "https://localhost:8080/",
          "height": 143
        },
        "outputId": "6a68c133-0edb-4251-f662-0ee6727d2bc2"
      }
    },
    {
      "cell_type": "markdown",
      "source": [
        "**Probe**"
      ],
      "metadata": {
        "id": "2LBoLeEsC8pm"
      }
    },
    {
      "cell_type": "code",
      "execution_count": null,
      "source": [
        "Y_Probe_pred=clf_voting_Probe.predict(X_Probe_test)\n",
        "\n",
        "# Create confusion matrix\n",
        "pd.crosstab(Y_Probe_test, Y_Probe_pred, rownames=['Actual attacks'], colnames=['Predicted attacks'])"
      ],
      "outputs": [
        {
          "output_type": "execute_result",
          "data": {
            "text/html": [
              "<div>\n",
              "<style scoped>\n",
              "    .dataframe tbody tr th:only-of-type {\n",
              "        vertical-align: middle;\n",
              "    }\n",
              "\n",
              "    .dataframe tbody tr th {\n",
              "        vertical-align: top;\n",
              "    }\n",
              "\n",
              "    .dataframe thead th {\n",
              "        text-align: right;\n",
              "    }\n",
              "</style>\n",
              "<table border=\"1\" class=\"dataframe\">\n",
              "  <thead>\n",
              "    <tr style=\"text-align: right;\">\n",
              "      <th>Predicted attacks</th>\n",
              "      <th>0</th>\n",
              "      <th>2</th>\n",
              "    </tr>\n",
              "    <tr>\n",
              "      <th>Actual attacks</th>\n",
              "      <th></th>\n",
              "      <th></th>\n",
              "    </tr>\n",
              "  </thead>\n",
              "  <tbody>\n",
              "    <tr>\n",
              "      <th>0</th>\n",
              "      <td>9479</td>\n",
              "      <td>232</td>\n",
              "    </tr>\n",
              "    <tr>\n",
              "      <th>2</th>\n",
              "      <td>1140</td>\n",
              "      <td>1281</td>\n",
              "    </tr>\n",
              "  </tbody>\n",
              "</table>\n",
              "</div>"
            ],
            "text/plain": [
              "Predicted attacks     0     2\n",
              "Actual attacks               \n",
              "0                  9479   232\n",
              "2                  1140  1281"
            ]
          },
          "metadata": {},
          "execution_count": 67
        }
      ],
      "metadata": {
        "id": "eUnAparzC-B3",
        "colab": {
          "base_uri": "https://localhost:8080/",
          "height": 143
        },
        "outputId": "dfda020b-856a-4f64-84ed-f814f3537f35"
      }
    },
    {
      "cell_type": "markdown",
      "source": [
        "**R2L**"
      ],
      "metadata": {
        "id": "Dx1S4pNfDIV8"
      }
    },
    {
      "cell_type": "code",
      "execution_count": null,
      "source": [
        "Y_R2L_pred=clf_voting_R2L.predict(X_R2L_test)\n",
        "\n",
        "# Create confusion matrix\n",
        "pd.crosstab(Y_R2L_test, Y_R2L_pred, rownames=['Actual attacks'], colnames=['Predicted attacks'])"
      ],
      "outputs": [
        {
          "output_type": "execute_result",
          "data": {
            "text/html": [
              "<div>\n",
              "<style scoped>\n",
              "    .dataframe tbody tr th:only-of-type {\n",
              "        vertical-align: middle;\n",
              "    }\n",
              "\n",
              "    .dataframe tbody tr th {\n",
              "        vertical-align: top;\n",
              "    }\n",
              "\n",
              "    .dataframe thead th {\n",
              "        text-align: right;\n",
              "    }\n",
              "</style>\n",
              "<table border=\"1\" class=\"dataframe\">\n",
              "  <thead>\n",
              "    <tr style=\"text-align: right;\">\n",
              "      <th>Predicted attacks</th>\n",
              "      <th>0</th>\n",
              "      <th>3</th>\n",
              "    </tr>\n",
              "    <tr>\n",
              "      <th>Actual attacks</th>\n",
              "      <th></th>\n",
              "      <th></th>\n",
              "    </tr>\n",
              "  </thead>\n",
              "  <tbody>\n",
              "    <tr>\n",
              "      <th>0</th>\n",
              "      <td>9711</td>\n",
              "      <td>0</td>\n",
              "    </tr>\n",
              "    <tr>\n",
              "      <th>3</th>\n",
              "      <td>2884</td>\n",
              "      <td>1</td>\n",
              "    </tr>\n",
              "  </tbody>\n",
              "</table>\n",
              "</div>"
            ],
            "text/plain": [
              "Predicted attacks     0  3\n",
              "Actual attacks            \n",
              "0                  9711  0\n",
              "3                  2884  1"
            ]
          },
          "metadata": {},
          "execution_count": 68
        }
      ],
      "metadata": {
        "id": "flUiIlHJDKYe",
        "colab": {
          "base_uri": "https://localhost:8080/",
          "height": 143
        },
        "outputId": "e0bb0887-6cda-452a-cf74-90f98c2adc60"
      }
    },
    {
      "cell_type": "markdown",
      "source": [
        "**U2R**"
      ],
      "metadata": {
        "id": "A46mT-XBDQ2G"
      }
    },
    {
      "cell_type": "code",
      "execution_count": null,
      "source": [
        "Y_U2R_pred=clf_voting_U2R.predict(X_U2R_test)\n",
        "\n",
        "# Create confusion matrix\n",
        "pd.crosstab(Y_U2R_test, Y_U2R_pred, rownames=['Actual attacks'], colnames=['Predicted attacks'])"
      ],
      "outputs": [
        {
          "output_type": "execute_result",
          "data": {
            "text/html": [
              "<div>\n",
              "<style scoped>\n",
              "    .dataframe tbody tr th:only-of-type {\n",
              "        vertical-align: middle;\n",
              "    }\n",
              "\n",
              "    .dataframe tbody tr th {\n",
              "        vertical-align: top;\n",
              "    }\n",
              "\n",
              "    .dataframe thead th {\n",
              "        text-align: right;\n",
              "    }\n",
              "</style>\n",
              "<table border=\"1\" class=\"dataframe\">\n",
              "  <thead>\n",
              "    <tr style=\"text-align: right;\">\n",
              "      <th>Predicted attacks</th>\n",
              "      <th>0</th>\n",
              "    </tr>\n",
              "    <tr>\n",
              "      <th>Actual attacks</th>\n",
              "      <th></th>\n",
              "    </tr>\n",
              "  </thead>\n",
              "  <tbody>\n",
              "    <tr>\n",
              "      <th>0</th>\n",
              "      <td>9711</td>\n",
              "    </tr>\n",
              "    <tr>\n",
              "      <th>4</th>\n",
              "      <td>67</td>\n",
              "    </tr>\n",
              "  </tbody>\n",
              "</table>\n",
              "</div>"
            ],
            "text/plain": [
              "Predicted attacks     0\n",
              "Actual attacks         \n",
              "0                  9711\n",
              "4                    67"
            ]
          },
          "metadata": {},
          "execution_count": 69
        }
      ],
      "metadata": {
        "id": "3u9wU5OcDSF3",
        "colab": {
          "base_uri": "https://localhost:8080/",
          "height": 143
        },
        "outputId": "b7704a5b-f978-473e-a8a1-14e89ecd011d"
      }
    },
    {
      "cell_type": "markdown",
      "source": [
        "**DoS**"
      ],
      "metadata": {
        "id": "ojnaDLQZDt_G"
      }
    },
    {
      "cell_type": "code",
      "execution_count": null,
      "source": [
        "from sklearn.model_selection import cross_val_score\n",
        "from sklearn import metrics\n",
        "accuracy = cross_val_score(clf_voting_DoS, X_DoS_test, Y_DoS_test, cv=10, scoring='accuracy')\n",
        "print(\"Accuracy: %0.5f (+/- %0.5f)\" % (accuracy.mean(), accuracy.std() * 2))\n",
        "precision = cross_val_score(clf_voting_DoS, X_DoS_test, Y_DoS_test, cv=10, scoring='precision')\n",
        "print(\"Precision: %0.5f (+/- %0.5f)\" % (precision.mean(), precision.std() * 2))\n",
        "recall = cross_val_score(clf_voting_DoS, X_DoS_test, Y_DoS_test, cv=10, scoring='recall')\n",
        "print(\"Recall: %0.5f (+/- %0.5f)\" % (recall.mean(), recall.std() * 2))\n",
        "f = cross_val_score(clf_voting_DoS, X_DoS_test, Y_DoS_test, cv=10, scoring='f1')\n",
        "print(\"F-measure: %0.5f (+/- %0.5f)\" % (f.mean(), f.std() * 2))"
      ],
      "outputs": [
        {
          "output_type": "stream",
          "name": "stdout",
          "text": [
            "Accuracy: 0.99790 (+/- 0.00267)\n",
            "Precision: 0.99866 (+/- 0.00294)\n",
            "Recall: 0.99705 (+/- 0.00289)\n",
            "F-measure: 0.99765 (+/- 0.00277)\n"
          ]
        }
      ],
      "metadata": {
        "id": "VZf04XKLDrvL",
        "colab": {
          "base_uri": "https://localhost:8080/"
        },
        "outputId": "46ae11ed-5382-43b7-d07d-af419162d7ca"
      }
    },
    {
      "cell_type": "markdown",
      "source": [
        "**Probe**"
      ],
      "metadata": {
        "id": "qlGDiSptD2nJ"
      }
    },
    {
      "cell_type": "code",
      "execution_count": null,
      "source": [
        "accuracy = cross_val_score(clf_voting_Probe, X_Probe_test, Y_Probe_test, cv=10, scoring='accuracy')\n",
        "print(\"Accuracy: %0.5f (+/- %0.5f)\" % (accuracy.mean(), accuracy.std() * 2))\n",
        "precision = cross_val_score(clf_voting_Probe, X_Probe_test, Y_Probe_test, cv=10, scoring='precision_macro')\n",
        "print(\"Precision: %0.5f (+/- %0.5f)\" % (precision.mean(), precision.std() * 2))\n",
        "recall = cross_val_score(clf_voting_Probe, X_Probe_test, Y_Probe_test, cv=10, scoring='recall_macro')\n",
        "print(\"Recall: %0.5f (+/- %0.5f)\" % (recall.mean(), recall.std() * 2))\n",
        "f = cross_val_score(clf_voting_Probe, X_Probe_test, Y_Probe_test, cv=10, scoring='f1_macro')\n",
        "print(\"F-mesaure: %0.5f (+/- %0.5f)\" % (f.mean(), f.std() * 2))"
      ],
      "outputs": [
        {
          "output_type": "stream",
          "name": "stdout",
          "text": [
            "Accuracy: 0.99275 (+/- 0.00447)\n",
            "Precision: 0.98769 (+/- 0.00736)\n",
            "Recall: 0.98978 (+/- 0.00818)\n",
            "F-mesaure: 0.98828 (+/- 0.00510)\n"
          ]
        }
      ],
      "metadata": {
        "id": "n83y5PJbD3ni",
        "colab": {
          "base_uri": "https://localhost:8080/"
        },
        "outputId": "a81dbf35-906a-4957-ef3a-43a1fdac1525"
      }
    },
    {
      "cell_type": "markdown",
      "source": [
        "**R2L**"
      ],
      "metadata": {
        "id": "wv-xS9-FEQh-"
      }
    },
    {
      "cell_type": "code",
      "execution_count": null,
      "source": [
        "accuracy = cross_val_score(clf_voting_R2L, X_R2L_test, Y_R2L_test, cv=10, scoring='accuracy')\n",
        "print(\"Accuracy: %0.5f (+/- %0.5f)\" % (accuracy.mean(), accuracy.std() * 2))\n",
        "precision = cross_val_score(clf_voting_R2L, X_R2L_test, Y_R2L_test, cv=10, scoring='precision_macro')\n",
        "print(\"Precision: %0.5f (+/- %0.5f)\" % (precision.mean(), precision.std() * 2))\n",
        "recall = cross_val_score(clf_voting_R2L, X_R2L_test, Y_R2L_test, cv=10, scoring='recall_macro')\n",
        "print(\"Recall: %0.5f (+/- %0.5f)\" % (recall.mean(), recall.std() * 2))\n",
        "f = cross_val_score(clf_voting_R2L, X_R2L_test, Y_R2L_test, cv=10, scoring='f1_macro')\n",
        "print(\"F-measure: %0.5f (+/- %0.5f)\" % (f.mean(), f.std() * 2))"
      ],
      "outputs": [
        {
          "output_type": "stream",
          "name": "stdout",
          "text": [
            "Accuracy: 0.97213 (+/- 0.00596)\n",
            "Precision: 0.95783 (+/- 0.01008)\n",
            "Recall: 0.96381 (+/- 0.01080)\n",
            "F-measure: 0.96092 (+/- 0.00969)\n"
          ]
        }
      ],
      "metadata": {
        "id": "tnKA7-GBESPW",
        "colab": {
          "base_uri": "https://localhost:8080/"
        },
        "outputId": "23f5cc0f-d3a7-4ae4-c5ae-66d10324e5a8"
      }
    },
    {
      "cell_type": "markdown",
      "source": [
        "**U2R**"
      ],
      "metadata": {
        "id": "moAQ-pd9EZAi"
      }
    },
    {
      "cell_type": "code",
      "execution_count": null,
      "source": [
        "accuracy = cross_val_score(clf_voting_U2R, X_U2R_test, Y_U2R_test, cv=10, scoring='accuracy')\n",
        "print(\"Accuracy: %0.5f (+/- %0.5f)\" % (accuracy.mean(), accuracy.std() * 2))\n",
        "precision = cross_val_score(clf_voting_U2R, X_U2R_test, Y_U2R_test, cv=10, scoring='precision_macro')\n",
        "print(\"Precision: %0.5f (+/- %0.5f)\" % (precision.mean(), precision.std() * 2))\n",
        "recall = cross_val_score(clf_voting_U2R, X_U2R_test, Y_U2R_test, cv=10, scoring='recall_macro')\n",
        "print(\"Recall: %0.5f (+/- %0.5f)\" % (recall.mean(), recall.std() * 2))\n",
        "f = cross_val_score(clf_voting_U2R, X_U2R_test, Y_U2R_test, cv=10, scoring='f1_macro')\n",
        "print(\"F-measure: %0.5f (+/- %0.5f)\" % (f.mean(), f.std() * 2))"
      ],
      "outputs": [
        {
          "output_type": "stream",
          "name": "stdout",
          "text": [
            "Accuracy: 0.99755 (+/- 0.00209)\n",
            "Precision: 0.94688 (+/- 0.11398)\n",
            "Recall: 0.86506 (+/- 0.17589)\n",
            "F-measure: 0.89562 (+/- 0.11586)\n"
          ]
        }
      ],
      "metadata": {
        "id": "74Lwk4bEEaex",
        "colab": {
          "base_uri": "https://localhost:8080/"
        },
        "outputId": "a72449bc-540a-4379-c9b0-3a8947d41604"
      }
    }
  ]
}